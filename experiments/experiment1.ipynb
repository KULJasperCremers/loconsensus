{
 "cells": [
  {
   "cell_type": "code",
   "execution_count": 1,
   "metadata": {},
   "outputs": [],
   "source": [
    "import tsmd_evaluation.prom as prom\n",
    "\n",
    "import loconsensus.loconsensus as loconsensus\n",
    "import locomotif.locomotif as locomotif\n",
    "\n",
    "from experiments.experiment_setup import ExperimentConfig, ExperimentStaticMotif\n",
    "\n",
    "import  numpy as np\n",
    "import matplotlib.pyplot as plt\n",
    "\n",
    "import time"
   ]
  },
  {
   "cell_type": "code",
   "execution_count": 2,
   "metadata": {},
   "outputs": [],
   "source": [
    "config = ExperimentConfig(\n",
    "    n_ts = 5,\n",
    "    len_ts = 2000,\n",
    "    n_dims = 3,\n",
    "    len_base_motif=50\n",
    ")\n",
    "gen = ExperimentStaticMotif(config)\n",
    "\n",
    "ts_list, m_pos = gen.generate_experiment()"
   ]
  },
  {
   "cell_type": "code",
   "execution_count": 3,
   "metadata": {},
   "outputs": [
    {
     "data": {
      "image/png": "[encoded data removed]",
      "text/plain": [
       "<Figure size 400x200 with 1 Axes>"
      ]
     },
     "metadata": {},
     "output_type": "display_data"
    }
   ],
   "source": [
    "plt.figure(figsize=(4,2))\n",
    "plt.plot(ts_list[0])\n",
    "plt.show()"
   ]
  },
  {
   "cell_type": "code",
   "execution_count": 4,
   "metadata": {},
   "outputs": [
    {
     "name": "stdout",
     "output_type": "stream",
     "text": [
      "27.45\n",
      "37.57\n"
     ]
    }
   ],
   "source": [
    "concat_list = np.concatenate(ts_list, axis=0)\n",
    "l_min = config.len_base_motif // 2\n",
    "l_max = config.len_base_motif * 2\n",
    "rho = 0.8\n",
    "nb = None\n",
    "\n",
    "start_time = time.perf_counter()\n",
    "motifs1 = loconsensus.apply_loconsensus(ts_list, l_min, l_max, rho, nb)\n",
    "end_time = time.perf_counter() - start_time\n",
    "print(f'{end_time:.2f}')\n",
    "\n",
    "start_time = time.perf_counter()\n",
    "motifs2 = locomotif.apply_locomotif(concat_list, l_min, l_max, rho, nb)\n",
    "end_time = time.perf_counter() - start_time\n",
    "print(f'{end_time:.2f}')"
   ]
  },
  {
   "cell_type": "code",
   "execution_count": 5,
   "metadata": {},
   "outputs": [
    {
     "name": "stdout",
     "output_type": "stream",
     "text": [
      "[[ 5.  0.  0.  0.  0.  0.  0.  0.  0.  0.  0.  0.  0.  0.  0.  0.  0.  0.\n",
      "   0.  0.  0.  0.  0.  0.  0.  0.  0.  0.  0.  0.  0.  0.  0.  0.  0.  0.\n",
      "   0.  0.  0.  0.  0.  0.  0.  0.  0.  0.]\n",
      " [ 0. 32. 25. 19.  9. 13.  9. 12. 10.  7.  6.  5.  5.  4.  3.  3.  3.  5.\n",
      "   5.  2.  3.  3.  3.  3.  3.  3.  3.  2.  3.  2.  2.  2.  2.  2.  2.  2.\n",
      "   2.  2.  2.  2.  2.  2.  2.  2.  2. nan]]\n",
      "\n",
      "Micro averaged PROM\n",
      "Precision: 1.0\n",
      "Recall: 1.0\n",
      "F1-score: 1.0\n"
     ]
    }
   ],
   "source": [
    "M, _, _ = prom.matching_matrix([m_pos], [motif_set[1] for motif_set in motifs1])\n",
    "print(M)\n",
    "print()\n",
    "print(\"Micro averaged PROM\")\n",
    "print(f\"Precision: {prom.micro_averaged_precision(M)}\")\n",
    "print(f\"Recall: {prom.micro_averaged_recall(M)}\")\n",
    "print(f\"F1-score: {prom.micro_averaged_f1(M)}\")"
   ]
  },
  {
   "cell_type": "code",
   "execution_count": null,
   "metadata": {},
   "outputs": [
    {
     "name": "stdout",
     "output_type": "stream",
     "text": [
      "[[ 5.  0.  0.  0.  0.  0.  0.  0.  0.  0.  0.  0.  0.  0.  0.  0.  0.  0.\n",
      "   0.  0.  0.  0.  0.  0.  0.  0.  0.  0.  0.  0.  0.  0.  0.  0.  0.  0.\n",
      "   0.  0.  0.  0.  0.  0.  0.  0.  0.  0.  0.  0.]\n",
      " [ 0. 38. 24. 20. 12. 12. 10.  7.  7.  6.  5.  5.  5.  4.  4.  4.  4.  4.\n",
      "   4.  3.  3.  3.  3.  3.  3.  3.  3.  3.  2.  2.  2.  2.  2.  2.  2.  2.\n",
      "   2.  2.  2.  2.  2.  2.  2.  2.  2.  2.  2. nan]]\n",
      "\n",
      "Micro averaged PROM\n",
      "Precision: 1.0\n",
      "Recall: 1.0\n",
      "F1-score: 1.0\n"
     ]
    }
   ],
   "source": [
    "M, _, _ = prom.matching_matrix([m_pos], [motif_set[1] for motif_set in motifs2])\n",
    "print(M)\n",
    "print()\n",
    "print(\"Micro averaged PROM\")\n",
    "print(f\"Precision: {prom.micro_averaged_precision(M)}\")\n",
    "print(f\"Recall: {prom.micro_averaged_recall(M)}\")\n",
    "print(f\"F1-score: {prom.micro_averaged_f1(M)}\")"
   ]
  }
 ],
 "metadata": {
  "kernelspec": {
   "display_name": ".venv",
   "language": "python",
   "name": "python3"
  },
  "language_info": {
   "codemirror_mode": {
    "name": "ipython",
    "version": 3
   },
   "file_extension": ".py",
   "mimetype": "text/x-python",
   "name": "python",
   "nbconvert_exporter": "python",
   "pygments_lexer": "ipython3",
   "version": "3.12.7"
  }
 },
 "nbformat": 4,
 "nbformat_minor": 2
}
