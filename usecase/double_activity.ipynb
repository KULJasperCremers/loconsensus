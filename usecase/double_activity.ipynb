{
 "cells": [
  {
   "cell_type": "code",
   "execution_count": 1,
   "metadata": {},
   "outputs": [
    {
     "name": "stderr",
     "output_type": "stream",
     "text": [
      "\n",
      "A module that was compiled using NumPy 1.x cannot be run in\n",
      "NumPy 2.0.2 as it may crash. To support both 1.x and 2.x\n",
      "versions of NumPy, modules must be compiled with NumPy 2.0.\n",
      "Some module may need to rebuild instead e.g. with 'pybind11>=2.12'.\n",
      "\n",
      "If you are a user of the module, the easiest solution will be to\n",
      "downgrade to 'numpy<2' or try to upgrade the affected module.\n",
      "We expect that some modules will need time to support NumPy 2.\n",
      "\n",
      "Traceback (most recent call last):  File \"<frozen runpy>\", line 198, in _run_module_as_main\n",
      "  File \"<frozen runpy>\", line 88, in _run_code\n",
      "  File \"c:\\Code\\Repos\\loconsensus\\.venv\\Lib\\site-packages\\ipykernel_launcher.py\", line 18, in <module>\n",
      "    app.launch_new_instance()\n",
      "  File \"c:\\Code\\Repos\\loconsensus\\.venv\\Lib\\site-packages\\traitlets\\config\\application.py\", line 1075, in launch_instance\n",
      "    app.start()\n",
      "  File \"c:\\Code\\Repos\\loconsensus\\.venv\\Lib\\site-packages\\ipykernel\\kernelapp.py\", line 739, in start\n",
      "    self.io_loop.start()\n",
      "  File \"c:\\Code\\Repos\\loconsensus\\.venv\\Lib\\site-packages\\tornado\\platform\\asyncio.py\", line 205, in start\n",
      "    self.asyncio_loop.run_forever()\n",
      "  File \"C:\\Users\\jcremers\\AppData\\Local\\Programs\\Python\\Python312\\Lib\\asyncio\\base_events.py\", line 641, in run_forever\n",
      "    self._run_once()\n",
      "  File \"C:\\Users\\jcremers\\AppData\\Local\\Programs\\Python\\Python312\\Lib\\asyncio\\base_events.py\", line 1986, in _run_once\n",
      "    handle._run()\n",
      "  File \"C:\\Users\\jcremers\\AppData\\Local\\Programs\\Python\\Python312\\Lib\\asyncio\\events.py\", line 88, in _run\n",
      "    self._context.run(self._callback, *self._args)\n",
      "  File \"c:\\Code\\Repos\\loconsensus\\.venv\\Lib\\site-packages\\ipykernel\\kernelbase.py\", line 545, in dispatch_queue\n",
      "    await self.process_one()\n",
      "  File \"c:\\Code\\Repos\\loconsensus\\.venv\\Lib\\site-packages\\ipykernel\\kernelbase.py\", line 534, in process_one\n",
      "    await dispatch(*args)\n",
      "  File \"c:\\Code\\Repos\\loconsensus\\.venv\\Lib\\site-packages\\ipykernel\\kernelbase.py\", line 437, in dispatch_shell\n",
      "    await result\n",
      "  File \"c:\\Code\\Repos\\loconsensus\\.venv\\Lib\\site-packages\\ipykernel\\ipkernel.py\", line 362, in execute_request\n",
      "    await super().execute_request(stream, ident, parent)\n",
      "  File \"c:\\Code\\Repos\\loconsensus\\.venv\\Lib\\site-packages\\ipykernel\\kernelbase.py\", line 778, in execute_request\n",
      "    reply_content = await reply_content\n",
      "  File \"c:\\Code\\Repos\\loconsensus\\.venv\\Lib\\site-packages\\ipykernel\\ipkernel.py\", line 449, in do_execute\n",
      "    res = shell.run_cell(\n",
      "  File \"c:\\Code\\Repos\\loconsensus\\.venv\\Lib\\site-packages\\ipykernel\\zmqshell.py\", line 549, in run_cell\n",
      "    return super().run_cell(*args, **kwargs)\n",
      "  File \"c:\\Code\\Repos\\loconsensus\\.venv\\Lib\\site-packages\\IPython\\core\\interactiveshell.py\", line 3075, in run_cell\n",
      "    result = self._run_cell(\n",
      "  File \"c:\\Code\\Repos\\loconsensus\\.venv\\Lib\\site-packages\\IPython\\core\\interactiveshell.py\", line 3130, in _run_cell\n",
      "    result = runner(coro)\n",
      "  File \"c:\\Code\\Repos\\loconsensus\\.venv\\Lib\\site-packages\\IPython\\core\\async_helpers.py\", line 128, in _pseudo_sync_runner\n",
      "    coro.send(None)\n",
      "  File \"c:\\Code\\Repos\\loconsensus\\.venv\\Lib\\site-packages\\IPython\\core\\interactiveshell.py\", line 3334, in run_cell_async\n",
      "    has_raised = await self.run_ast_nodes(code_ast.body, cell_name,\n",
      "  File \"c:\\Code\\Repos\\loconsensus\\.venv\\Lib\\site-packages\\IPython\\core\\interactiveshell.py\", line 3517, in run_ast_nodes\n",
      "    if await self.run_code(code, result, async_=asy):\n",
      "  File \"c:\\Code\\Repos\\loconsensus\\.venv\\Lib\\site-packages\\IPython\\core\\interactiveshell.py\", line 3577, in run_code\n",
      "    exec(code_obj, self.user_global_ns, self.user_ns)\n",
      "  File \"C:\\Users\\jcremers\\AppData\\Local\\Temp\\ipykernel_3832\\2531008124.py\", line 6, in <module>\n",
      "    from dtaidistance import dtw_ndim\n",
      "  File \"c:\\Code\\Repos\\loconsensus\\.venv\\Lib\\site-packages\\dtaidistance\\__init__.py\", line 19, in <module>\n",
      "    from . import dtw\n",
      "  File \"c:\\Code\\Repos\\loconsensus\\.venv\\Lib\\site-packages\\dtaidistance\\dtw.py\", line 17, in <module>\n",
      "    from . import ed\n",
      "  File \"c:\\Code\\Repos\\loconsensus\\.venv\\Lib\\site-packages\\dtaidistance\\ed.py\", line 16, in <module>\n",
      "    from . import innerdistance\n",
      "  File \"c:\\Code\\Repos\\loconsensus\\.venv\\Lib\\site-packages\\dtaidistance\\innerdistance.py\", line 16, in <module>\n",
      "    from . import util\n",
      "  File \"c:\\Code\\Repos\\loconsensus\\.venv\\Lib\\site-packages\\dtaidistance\\util.py\", line 41, in <module>\n",
      "    from . import dtw_cc_numpy\n",
      "\n",
      "A module that was compiled using NumPy 1.x cannot be run in\n",
      "NumPy 2.0.2 as it may crash. To support both 1.x and 2.x\n",
      "versions of NumPy, modules must be compiled with NumPy 2.0.\n",
      "Some module may need to rebuild instead e.g. with 'pybind11>=2.12'.\n",
      "\n",
      "If you are a user of the module, the easiest solution will be to\n",
      "downgrade to 'numpy<2' or try to upgrade the affected module.\n",
      "We expect that some modules will need time to support NumPy 2.\n",
      "\n",
      "Traceback (most recent call last):  File \"<frozen runpy>\", line 198, in _run_module_as_main\n",
      "  File \"<frozen runpy>\", line 88, in _run_code\n",
      "  File \"c:\\Code\\Repos\\loconsensus\\.venv\\Lib\\site-packages\\ipykernel_launcher.py\", line 18, in <module>\n",
      "    app.launch_new_instance()\n",
      "  File \"c:\\Code\\Repos\\loconsensus\\.venv\\Lib\\site-packages\\traitlets\\config\\application.py\", line 1075, in launch_instance\n",
      "    app.start()\n",
      "  File \"c:\\Code\\Repos\\loconsensus\\.venv\\Lib\\site-packages\\ipykernel\\kernelapp.py\", line 739, in start\n",
      "    self.io_loop.start()\n",
      "  File \"c:\\Code\\Repos\\loconsensus\\.venv\\Lib\\site-packages\\tornado\\platform\\asyncio.py\", line 205, in start\n",
      "    self.asyncio_loop.run_forever()\n",
      "  File \"C:\\Users\\jcremers\\AppData\\Local\\Programs\\Python\\Python312\\Lib\\asyncio\\base_events.py\", line 641, in run_forever\n",
      "    self._run_once()\n",
      "  File \"C:\\Users\\jcremers\\AppData\\Local\\Programs\\Python\\Python312\\Lib\\asyncio\\base_events.py\", line 1986, in _run_once\n",
      "    handle._run()\n",
      "  File \"C:\\Users\\jcremers\\AppData\\Local\\Programs\\Python\\Python312\\Lib\\asyncio\\events.py\", line 88, in _run\n",
      "    self._context.run(self._callback, *self._args)\n",
      "  File \"c:\\Code\\Repos\\loconsensus\\.venv\\Lib\\site-packages\\ipykernel\\kernelbase.py\", line 545, in dispatch_queue\n",
      "    await self.process_one()\n",
      "  File \"c:\\Code\\Repos\\loconsensus\\.venv\\Lib\\site-packages\\ipykernel\\kernelbase.py\", line 534, in process_one\n",
      "    await dispatch(*args)\n",
      "  File \"c:\\Code\\Repos\\loconsensus\\.venv\\Lib\\site-packages\\ipykernel\\kernelbase.py\", line 437, in dispatch_shell\n",
      "    await result\n",
      "  File \"c:\\Code\\Repos\\loconsensus\\.venv\\Lib\\site-packages\\ipykernel\\ipkernel.py\", line 362, in execute_request\n",
      "    await super().execute_request(stream, ident, parent)\n",
      "  File \"c:\\Code\\Repos\\loconsensus\\.venv\\Lib\\site-packages\\ipykernel\\kernelbase.py\", line 778, in execute_request\n",
      "    reply_content = await reply_content\n",
      "  File \"c:\\Code\\Repos\\loconsensus\\.venv\\Lib\\site-packages\\ipykernel\\ipkernel.py\", line 449, in do_execute\n",
      "    res = shell.run_cell(\n",
      "  File \"c:\\Code\\Repos\\loconsensus\\.venv\\Lib\\site-packages\\ipykernel\\zmqshell.py\", line 549, in run_cell\n",
      "    return super().run_cell(*args, **kwargs)\n",
      "  File \"c:\\Code\\Repos\\loconsensus\\.venv\\Lib\\site-packages\\IPython\\core\\interactiveshell.py\", line 3075, in run_cell\n",
      "    result = self._run_cell(\n",
      "  File \"c:\\Code\\Repos\\loconsensus\\.venv\\Lib\\site-packages\\IPython\\core\\interactiveshell.py\", line 3130, in _run_cell\n",
      "    result = runner(coro)\n",
      "  File \"c:\\Code\\Repos\\loconsensus\\.venv\\Lib\\site-packages\\IPython\\core\\async_helpers.py\", line 128, in _pseudo_sync_runner\n",
      "    coro.send(None)\n",
      "  File \"c:\\Code\\Repos\\loconsensus\\.venv\\Lib\\site-packages\\IPython\\core\\interactiveshell.py\", line 3334, in run_cell_async\n",
      "    has_raised = await self.run_ast_nodes(code_ast.body, cell_name,\n",
      "  File \"c:\\Code\\Repos\\loconsensus\\.venv\\Lib\\site-packages\\IPython\\core\\interactiveshell.py\", line 3517, in run_ast_nodes\n",
      "    if await self.run_code(code, result, async_=asy):\n",
      "  File \"c:\\Code\\Repos\\loconsensus\\.venv\\Lib\\site-packages\\IPython\\core\\interactiveshell.py\", line 3577, in run_code\n",
      "    exec(code_obj, self.user_global_ns, self.user_ns)\n",
      "  File \"C:\\Users\\jcremers\\AppData\\Local\\Temp\\ipykernel_3832\\2531008124.py\", line 6, in <module>\n",
      "    from dtaidistance import dtw_ndim\n",
      "  File \"c:\\Code\\Repos\\loconsensus\\.venv\\Lib\\site-packages\\dtaidistance\\__init__.py\", line 19, in <module>\n",
      "    from . import dtw\n",
      "  File \"c:\\Code\\Repos\\loconsensus\\.venv\\Lib\\site-packages\\dtaidistance\\dtw.py\", line 46, in <module>\n",
      "    from . import dtw_cc_numpy\n"
     ]
    }
   ],
   "source": [
    "import pandas as pd\n",
    "import matplotlib.pyplot as plt\n",
    "import pickle\n",
    "import numpy as np\n",
    "from pathlib import Path\n",
    "from dtaidistance import dtw_ndim\n",
    "\n",
    "s_dir = Path('../pickles/subjects.pkl')\n",
    "with open(s_dir, 'rb') as f:\n",
    "    subjects = pickle.load(f)"
   ]
  },
  {
   "cell_type": "code",
   "execution_count": 2,
   "metadata": {},
   "outputs": [],
   "source": [
    "sampling_frequency = 10\n",
    "ts_names = [(1, 'walking'),     (1, 'running'),\n",
    "            (2, 'walking'),     (2, 'running'),\n",
    "            (5, 'walking'),     (5, 'running'),\n",
    "            (6, 'running'),     (6, 'walking'),\n",
    "            (8, 'walking'),     (8, 'running'),\n",
    "            (1, 'cycling'),     (1, 'desc_stairs'),\n",
    "            (2, 'desc_stairs'), (2, 'cycling'),\n",
    "            (4, 'cycling'),     (4, 'desc_stairs'),\n",
    "            (5, 'desc_stairs'), (5, 'cycling'),\n",
    "            (6, 'cycling'),     (6, 'desc_stairs'),\n",
    "            (7, 'desc_stairs'), (7, 'cycling'),\n",
    "            (8, 'cycling'),     (8, 'desc_stairs'),\n",
    "            (1, 'rope_jumping'),(1, 'ironing'),\n",
    "            (2, 'ironing'),     (2, 'rope_jumping'),\n",
    "            (5, 'rope_jumping'),(5, 'ironing'),\n",
    "            (8, 'ironing'),     (8, 'rope_jumping')]\n",
    "gt = [0,0,0,0,0,\n",
    "      1,1,1,1,1,1,1,\n",
    "      2,2,2,2\n",
    "      ]\n",
    "assert len(ts_names) == len(gt) * 2\n",
    "ts_list = [subjects.get(f'subject10{subject}').get(activity) for (subject, activity) in ts_names]\n",
    "ts_list = [ts[:, 6:] for ts in ts_list]\n"
   ]
  },
  {
   "cell_type": "code",
   "execution_count": 3,
   "metadata": {},
   "outputs": [
    {
     "name": "stdout",
     "output_type": "stream",
     "text": [
      "(4353, 3)\n",
      "(4178, 3)\n",
      "(5669, 3)\n",
      "(4856, 3)\n",
      "(4808, 3)\n",
      "(3100, 3)\n",
      "(3254, 3)\n",
      "(2966, 3)\n",
      "(3033, 3)\n",
      "(2559, 3)\n",
      "(2801, 3)\n",
      "(3029, 3)\n",
      "(3650, 3)\n",
      "(4215, 3)\n",
      "(4078, 3)\n",
      "(4180, 3)\n"
     ]
    }
   ],
   "source": [
    "it = iter(ts_list)\n",
    "ts_list = [np.concatenate((ts1, ts2)) for ts1, ts2 in zip(it,it)]\n",
    "assert len(ts_list) == len(gt)\n",
    "\n",
    "for ts in ts_list:\n",
    "    print(ts.shape)"
   ]
  },
  {
   "cell_type": "code",
   "execution_count": 4,
   "metadata": {},
   "outputs": [
    {
     "name": "stdout",
     "output_type": "stream",
     "text": [
      "[[0.         0.59802538 0.72090242 0.81538686 0.93364872 0.84256428\n",
      "  0.82533453 0.84202378 0.86280363 0.83970667 0.82395814 0.87426951\n",
      "  0.88609818 0.86286112 0.88557596 0.91049626]\n",
      " [0.59802538 0.         0.76777262 0.85057848 0.87652292 0.82483648\n",
      "  0.76830872 0.85073508 0.85834535 0.81591088 0.81312361 0.78632403\n",
      "  0.81872882 0.78041171 0.81137385 0.84628082]\n",
      " [0.72090242 0.76777262 0.         0.89549144 0.94155408 0.95392108\n",
      "  0.94924741 0.92729524 0.94352873 0.93798157 0.9367833  0.96694685\n",
      "  0.97805014 0.96601224 0.97435889 0.98216363]\n",
      " [0.81538686 0.85057848 0.89549144 0.         1.         0.89093456\n",
      "  0.87832898 0.87637494 0.88361988 0.89213256 0.84843974 0.98304616\n",
      "  0.88924173 0.91662726 0.90916322 0.95829075]\n",
      " [0.93364872 0.87652292 0.94155408 1.         0.         0.90054319\n",
      "  0.84131497 0.89917148 0.92845704 0.87096787 0.89183521 0.8312352\n",
      "  0.93470981 0.84186593 0.91119498 0.86172368]\n",
      " [0.84256428 0.82483648 0.95392108 0.89093456 0.90054319 0.\n",
      "  0.62354279 0.52613022 0.58370821 0.44902138 0.5496268  0.72866015\n",
      "  0.61407354 0.60279628 0.58713557 0.6665038 ]\n",
      " [0.82533453 0.76830872 0.94924741 0.87832898 0.84131497 0.62354279\n",
      "  0.         0.64443246 0.62175014 0.58242844 0.50197725 0.64760989\n",
      "  0.66639903 0.5981742  0.65808681 0.65463791]\n",
      " [0.84202378 0.85073508 0.92729524 0.87637494 0.89917148 0.52613022\n",
      "  0.64443246 0.         0.63088143 0.51430218 0.61280127 0.76674953\n",
      "  0.65322589 0.66570719 0.64060247 0.67633833]\n",
      " [0.86280363 0.85834535 0.94352873 0.88361988 0.92845704 0.58370821\n",
      "  0.62175014 0.63088143 0.         0.59138317 0.48534109 0.75067971\n",
      "  0.60133179 0.62749105 0.59043461 0.71056445]\n",
      " [0.83970667 0.81591088 0.93798157 0.89213256 0.87096787 0.44902138\n",
      "  0.58242844 0.51430218 0.59138317 0.         0.54479651 0.67454962\n",
      "  0.60965345 0.5806432  0.58630731 0.6498003 ]\n",
      " [0.82395814 0.81312361 0.9367833  0.84843974 0.89183521 0.5496268\n",
      "  0.50197725 0.61280127 0.48534109 0.54479651 0.         0.71087149\n",
      "  0.59511777 0.60781291 0.58544243 0.6613778 ]\n",
      " [0.87426951 0.78632403 0.96694685 0.98304616 0.8312352  0.72866015\n",
      "  0.64760989 0.76674953 0.75067971 0.67454962 0.71087149 0.\n",
      "  0.7399638  0.57693546 0.69271187 0.60105719]\n",
      " [0.88609818 0.81872882 0.97805014 0.88924173 0.93470981 0.61407354\n",
      "  0.66639903 0.65322589 0.60133179 0.60965345 0.59511777 0.7399638\n",
      "  0.         0.56906748 0.47691024 0.68575942]\n",
      " [0.86286112 0.78041171 0.96601224 0.91662726 0.84186593 0.60279628\n",
      "  0.5981742  0.66570719 0.62749105 0.5806432  0.60781291 0.57693546\n",
      "  0.56906748 0.         0.59263613 0.5522738 ]\n",
      " [0.88557596 0.81137385 0.97435889 0.90916322 0.91119498 0.58713557\n",
      "  0.65808681 0.64060247 0.59043461 0.58630731 0.58544243 0.69271187\n",
      "  0.47691024 0.59263613 0.         0.59880716]\n",
      " [0.91049626 0.84628082 0.98216363 0.95829075 0.86172368 0.6665038\n",
      "  0.65463791 0.67633833 0.71056445 0.6498003  0.6613778  0.60105719\n",
      "  0.68575942 0.5522738  0.59880716 0.        ]]\n"
     ]
    }
   ],
   "source": [
    "ds = dtw_ndim.distance_matrix(ts_list, use_c=True)\n",
    "ds = (ds - ds.min()) / (ds.max() - ds.min())\n",
    "print(ds)"
   ]
  },
  {
   "cell_type": "code",
   "execution_count": 5,
   "metadata": {},
   "outputs": [],
   "source": [
    "global_offsets = np.cumsum([0] + [len(ts) for ts in ts_list])\n",
    "l_min = 15\n",
    "l_max = 30\n",
    "rho = 0.8\n",
    "\n",
    "nb = None"
   ]
  },
  {
   "cell_type": "code",
   "execution_count": 6,
   "metadata": {},
   "outputs": [],
   "source": [
    "#ms = loconsensus.apply_loconsensus(ts_list, l_min, l_max, rho, nb, overlap=0.5)\n",
    "with open('../pickles/cm_double.pkl', 'rb') as handle:\n",
    "    ms = pickle.load(handle)"
   ]
  },
  {
   "cell_type": "code",
   "execution_count": 7,
   "metadata": {},
   "outputs": [
    {
     "name": "stdout",
     "output_type": "stream",
     "text": [
      "(16, 16)\n"
     ]
    }
   ],
   "source": [
    "n = len(ts_list)\n",
    "\n",
    "cm = []\n",
    "for _, mset, _, bf in ms:\n",
    "    cm.append((mset, bf))\n",
    "\n",
    "cms = []\n",
    "for mset, bf in cm:\n",
    "    m = {i: [] for i in range(len(ts_list))}\n",
    "    for (s, e) in mset:\n",
    "        i = np.sum(global_offsets <= s) - 1\n",
    "        m[i].append(((s - global_offsets[i], e - global_offsets[i]), bf))\n",
    "    cms.append(m)\n",
    "\n",
    "S = np.zeros((n, n))\n",
    "\n",
    "for cs in cms:\n",
    "    for i in range(n):\n",
    "        for j in range(n):\n",
    "            cs1 = cs[i]\n",
    "            cs2 = cs[j]\n",
    "            mbf = 0\n",
    "            for c in cs1:\n",
    "                smbf = c[1]\n",
    "                if smbf > mbf:\n",
    "                    mbf = smbf\n",
    "            for c in cs2:\n",
    "                smbf = c[1]\n",
    "                if smbf > mbf:\n",
    "                    mbf = smbf\n",
    "            if mbf == 0:\n",
    "                continue\n",
    "            # print(f'{mbf} // {len(cs1)} {len(cs2)}')\n",
    "            S[i, j] += min(len(cs1), len(cs2))\n",
    "            #S[i, j] += mbf * min(len(cs1), len(cs2))\n",
    "smin = S.min()\n",
    "smax = S.max()\n",
    "S = (S - smin) / (smax - smin)\n",
    "\n",
    "D = 1 - S\n",
    "D[np.diag_indices(len(D))] = 0\n",
    "print(D.shape)"
   ]
  },
  {
   "cell_type": "code",
   "execution_count": 11,
   "metadata": {},
   "outputs": [
    {
     "data": {
      "image/png": "[encoded data removed]",
      "text/plain": [
       "<Figure size 500x500 with 1 Axes>"
      ]
     },
     "metadata": {},
     "output_type": "display_data"
    },
    {
     "data": {
      "image/png": "[encoded data removed]",
      "text/plain": [
       "<Figure size 500x500 with 1 Axes>"
      ]
     },
     "metadata": {},
     "output_type": "display_data"
    },
    {
     "name": "stdout",
     "output_type": "stream",
     "text": [
      "                        Method       ARI       NMI\n",
      "0        Spectral Clustering S  1.000000  1.000000\n",
      "1    Hierarchical Clustering D  0.625984  0.693054\n",
      "2  Hierarchical Clustering DTW  0.470052  0.671738\n"
     ]
    }
   ],
   "source": [
    "from sklearn.cluster import SpectralClustering\n",
    "from sklearn.metrics import adjusted_rand_score, normalized_mutual_info_score\n",
    "from scipy.cluster.hierarchy import linkage, fcluster, dendrogram\n",
    "from scipy.spatial.distance import squareform\n",
    "import pandas as pd\n",
    "\n",
    "ts_names = gt\n",
    "n_clust = 3\n",
    "\n",
    "spectral = SpectralClustering(n_clusters=n_clust, affinity='precomputed')\n",
    "clusters = spectral.fit_predict(S)\n",
    "Z = linkage(squareform(D), method='ward')\n",
    "h = fcluster(Z, n_clust, criterion='maxclust')\n",
    "fig, ax = plt.subplots(figsize=(5, 5))\n",
    "dendrogram(Z, labels=ts_names, ax=ax)\n",
    "plt.show()\n",
    "\n",
    "Z1 = linkage(squareform(ds), method='ward')\n",
    "h1 = fcluster(Z1, n_clust, 'maxclust')\n",
    "fig, ax = plt.subplots(figsize=(5, 5))\n",
    "dendrogram(Z1, labels=ts_names, ax=ax)\n",
    "plt.show()\n",
    "\n",
    "ari2 = adjusted_rand_score(gt, clusters)\n",
    "ari3 = adjusted_rand_score(gt, h)\n",
    "ari4 = adjusted_rand_score(gt, h1)\n",
    "nmi2 = normalized_mutual_info_score(gt, clusters)\n",
    "nmi3 = normalized_mutual_info_score(gt, h)\n",
    "nmi4 = normalized_mutual_info_score(gt, h1)\n",
    "df_metrics = pd.DataFrame({\n",
    "    'Method': ['Spectral Clustering S', 'Hierarchical Clustering D', 'Hierarchical Clustering DTW'],\n",
    "    'ARI': [ari2, ari3, ari4],\n",
    "    'NMI': [nmi2, nmi3, nmi4],\n",
    "})\n",
    "print(df_metrics)"
   ]
  },
  {
   "cell_type": "code",
   "execution_count": 12,
   "metadata": {},
   "outputs": [
    {
     "data": {
      "image/png": "[encoded data removed]",
      "text/plain": [
       "<Figure size 400x400 with 1 Axes>"
      ]
     },
     "metadata": {},
     "output_type": "display_data"
    }
   ],
   "source": [
    "from scipy.linalg import eigh\n",
    "from scipy.sparse.csgraph import laplacian\n",
    "L = laplacian(S, normed=True)\n",
    "\n",
    "eigenvalues, eigenvectors = eigh(L)\n",
    "embedding = eigenvectors[:, 1:3]\n",
    "\n",
    "plt.figure(figsize=(4, 4))\n",
    "for i in range(n_clust):\n",
    "    plt.scatter(embedding[clusters == i, 0], embedding[clusters == i, 1], label=f'Cluster {i+1}')\n",
    "\n",
    "plt.xlabel('Eigenvector 1')\n",
    "plt.ylabel('Eigenvector 2')\n",
    "#plt.legend()\n",
    "plt.show()"
   ]
  },
  {
   "cell_type": "code",
   "execution_count": 10,
   "metadata": {},
   "outputs": [
    {
     "data": {
      "image/png": "[encoded data removed]",
      "text/plain": [
       "<Figure size 400x400 with 1 Axes>"
      ]
     },
     "metadata": {},
     "output_type": "display_data"
    }
   ],
   "source": [
    "from sklearn.manifold import MDS\n",
    "\n",
    "mds2 = MDS(n_components=2, dissimilarity='precomputed')\n",
    "points2 = mds2.fit_transform(ds)\n",
    "\n",
    "plt.figure(figsize=(4, 4))\n",
    "scatter = plt.scatter(points2[:, 0], points2[:, 1], c=gt)\n",
    "for i, label in enumerate(ts_names):\n",
    "    #plt.annotate(label[1], (points2[i, 0], points2[i, 1]))\n",
    "    plt.annotate(label, (points2[i, 0], points2[i, 1]))"
   ]
  }
 ],
 "metadata": {
  "kernelspec": {
   "display_name": ".venv",
   "language": "python",
   "name": "python3"
  },
  "language_info": {
   "codemirror_mode": {
    "name": "ipython",
    "version": 3
   },
   "file_extension": ".py",
   "mimetype": "text/x-python",
   "name": "python",
   "nbconvert_exporter": "python",
   "pygments_lexer": "ipython3",
   "version": "3.12.7"
  }
 },
 "nbformat": 4,
 "nbformat_minor": 2
}
