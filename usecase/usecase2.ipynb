{
 "cells": [
  {
   "cell_type": "code",
   "execution_count": 14,
   "metadata": {},
   "outputs": [],
   "source": [
    "import loconsensus.loconsensus as loconsensus\n",
    "import locomotif.visualize as visualize\n",
    "import matplotlib.pyplot as plt\n",
    "import pickle\n",
    "import numpy as np\n",
    "from pathlib import Path\n",
    "from dtaidistance import dtw_ndim\n",
    "\n",
    "s_dir = Path('../pickles/subjects.pkl')\n",
    "with open(s_dir, 'rb') as f:\n",
    "    subjects = pickle.load(f)"
   ]
  },
  {
   "cell_type": "code",
   "execution_count": 20,
   "metadata": {},
   "outputs": [],
   "source": [
    "sampling_frequency = 10\n",
    "ts_names = [(1, 'walking'), (2, 'walking'), (3, 'walking'), (4, 'walking'), (5, 'walking'), (6, 'walking'), (7, 'walking'), (8, 'walking'), (1, 'cycling'), (2, 'cycling'), (4, 'cycling'), (5, 'cycling'), (6, 'cycling'), (7, 'cycling'), (8, 'cycling'), (1, 'desc_stairs'), (2, 'desc_stairs'), (3, 'desc_stairs'), (4, 'desc_stairs'), (5, 'desc_stairs'), (6, 'desc_stairs'), (7, 'desc_stairs'), (8, 'desc_stairs'), (1, 'rope_jumping'), (2, 'rope_jumping'), (5, 'rope_jumping'), (8, 'rope_jumping'), (9, 'rope_jumping')]\n",
    "gt = [0, 0, 0, 0, 0, 0, 0, 0,\n",
    "      1, 1, 1, 1, 1, 1, 1,\n",
    "      2, 2, 2, 2, 2, 2, 2, 2,\n",
    "      3, 3, 3, 3, 3\n",
    "      ]\n",
    "\n",
    "assert len(ts_names) == len(gt)\n",
    "\n",
    "ts_list = [subjects.get(f'subject10{subject}').get(activity) for (subject, activity) in ts_names]\n",
    "ts_list = [ts[:, 6:] for ts in ts_list]\n"
   ]
  },
  {
   "cell_type": "code",
   "execution_count": 8,
   "metadata": {},
   "outputs": [
    {
     "name": "stdout",
     "output_type": "stream",
     "text": [
      "[[0.         0.63098888 0.7982571  0.76848839 0.71102729]\n",
      " [0.63098888 0.         1.         0.92202733 0.86408877]\n",
      " [0.7982571  1.         0.         0.6186805  0.73628133]\n",
      " [0.76848839 0.92202733 0.6186805  0.         0.71459608]\n",
      " [0.71102729 0.86408877 0.73628133 0.71459608 0.        ]]\n"
     ]
    }
   ],
   "source": [
    "ds = dtw_ndim.distance_matrix(ts_list, use_c=True)\n",
    "ds = (ds - ds.min()) / (ds.max() - ds.min())\n",
    "print(ds)"
   ]
  },
  {
   "cell_type": "code",
   "execution_count": 5,
   "metadata": {},
   "outputs": [],
   "source": [
    "n = len(ts_list)\n",
    "global_offsets = np.cumsum([0] + [len(ts) for ts in ts_list])\n",
    "l_min = 15\n",
    "l_max = 30\n",
    "rho = 0.8\n",
    "\n",
    "nb = None\n",
    "\n",
    "ms = loconsensus.apply_loconsensus(ts_list, l_min, l_max, rho, nb, overlap=0.5)"
   ]
  },
  {
   "cell_type": "code",
   "execution_count": 9,
   "metadata": {},
   "outputs": [],
   "source": [
    "cm = []\n",
    "for _, mset, _, bf in ms:\n",
    "    cm.append((mset, bf))\n",
    "\n",
    "cms = []\n",
    "for mset, bf in cm:\n",
    "    m = {i: [] for i in range(n)}\n",
    "    for (s, e) in mset:\n",
    "        i = np.sum(global_offsets <= s) - 1\n",
    "        m[i].append(((s - global_offsets[i], e - global_offsets[i]), bf))\n",
    "    cms.append(m)\n",
    "\n",
    "S = np.zeros((n, n))\n",
    "\n",
    "for cs in cms:\n",
    "    for i in range(n):\n",
    "        for j in range(n):\n",
    "            cs1 = cs[i]\n",
    "            cs2 = cs[j]\n",
    "            mbf = 0\n",
    "            for c in cs1:\n",
    "                smbf = c[1]\n",
    "                if smbf > mbf:\n",
    "                    mbf = smbf\n",
    "            for c in cs2:\n",
    "                smbf = c[1]\n",
    "                if smbf > mbf:\n",
    "                    mbf = smbf\n",
    "            if mbf == 0:\n",
    "                continue\n",
    "            # print(f'{mbf} // {len(cs1)} {len(cs2)}')\n",
    "            S[i, j] += mbf * min(len(cs1), len(cs2))\n",
    "\n",
    "smin = S.min()\n",
    "smax = S.max()\n",
    "S = (S - smin) / (smax - smin)\n",
    "\n",
    "D = 1 - S\n",
    "D[np.diag_indices(len(D))] = 0"
   ]
  },
  {
   "cell_type": "code",
   "execution_count": 10,
   "metadata": {},
   "outputs": [
    {
     "data": {
      "image/png": "[encoded data removed]",
      "text/plain": [
       "<Figure size 500x500 with 1 Axes>"
      ]
     },
     "metadata": {},
     "output_type": "display_data"
    },
    {
     "name": "stdout",
     "output_type": "stream",
     "text": [
      "                    Method  ARI  NMI\n",
      "0      Spectral Clustering  1.0  1.0\n",
      "1  Hierarchical Clustering  1.0  1.0\n"
     ]
    }
   ],
   "source": [
    "from sklearn.cluster import SpectralClustering\n",
    "from sklearn.metrics import adjusted_rand_score, normalized_mutual_info_score\n",
    "from scipy.cluster.hierarchy import linkage, fcluster, dendrogram\n",
    "from scipy.spatial.distance import squareform\n",
    "import pandas as pd\n",
    "\n",
    "ts_names = gt\n",
    "\n",
    "Cs = []\n",
    "Zs = []\n",
    "n_clust = 3\n",
    "for n in [n_clust]:\n",
    "    spectral = SpectralClustering(n_clusters=n, affinity='precomputed')\n",
    "    clusters = spectral.fit_predict(S)\n",
    "    Cs.append(clusters)\n",
    "    Z = linkage(squareform(D), method='single')\n",
    "    h = fcluster(Z, n, criterion='maxclust')\n",
    "    Zs.append(h)\n",
    "    fig, ax = plt.subplots(figsize=(5, 5))\n",
    "    dendrogram(Z, labels=ts_names, ax=ax, leaf_rotation=90)\n",
    "    plt.show()\n",
    "\n",
    "df = pd.DataFrame({'Label': ts_names})\n",
    "for i, n in enumerate([n_clust]):\n",
    "    df[f'Spectral {n}'] = Cs[i]\n",
    "    df[f'Hierarchical {n}'] = Zs[i]\n",
    "\n",
    "df.set_index('Label', inplace=True)\n",
    "#print(df)\n",
    "\n",
    "ari2 = adjusted_rand_score(gt, Cs[0])\n",
    "ari3 = adjusted_rand_score(gt, Zs[0])\n",
    "nmi2 = normalized_mutual_info_score(gt, Cs[0])\n",
    "nmi3 = normalized_mutual_info_score(gt, Zs[0])\n",
    "df_metrics = pd.DataFrame({\n",
    "    'Method': ['Spectral Clustering', 'Hierarchical Clustering'],\n",
    "    'ARI': [ari2, ari3],\n",
    "    'NMI': [nmi2, nmi3]\n",
    "})\n",
    "print(df_metrics)"
   ]
  },
  {
   "cell_type": "code",
   "execution_count": 11,
   "metadata": {},
   "outputs": [
    {
     "data": {
      "image/png": "[encoded data removed]",
      "text/plain": [
       "<Figure size 400x400 with 1 Axes>"
      ]
     },
     "metadata": {},
     "output_type": "display_data"
    }
   ],
   "source": [
    "from scipy.linalg import eigh\n",
    "from scipy.sparse.csgraph import laplacian\n",
    "L = laplacian(S, normed=True)\n",
    "\n",
    "eigenvalues, eigenvectors = eigh(L)\n",
    "#embedding = eigenvectors[:, 1:3]\n",
    "embedding = eigenvectors[:, 1:3]\n",
    "\n",
    "plt.figure(figsize=(4, 4))\n",
    "for i in range(n_clust):\n",
    "    plt.scatter(embedding[clusters == i, 0], embedding[clusters == i, 1], label=f'Cluster {i+1}')\n",
    "plt.title('Spectral Embedding')\n",
    "plt.xlabel('Eigenvector 1')\n",
    "plt.ylabel('Eigenvector 2')\n",
    "plt.legend()\n",
    "plt.show()"
   ]
  },
  {
   "cell_type": "code",
   "execution_count": 12,
   "metadata": {},
   "outputs": [
    {
     "data": {
      "image/png": "[encoded data removed]",
      "text/plain": [
       "<Figure size 500x500 with 1 Axes>"
      ]
     },
     "metadata": {},
     "output_type": "display_data"
    },
    {
     "name": "stdout",
     "output_type": "stream",
     "text": [
      "ari: 1.0 // nmi: 1.0\n"
     ]
    }
   ],
   "source": [
    "Z1 = linkage(squareform(ds), method='single')\n",
    "h1 = fcluster(Z1, n, criterion='maxclust')\n",
    "fig, ax = plt.subplots(figsize=(5, 5))\n",
    "dendrogram(Z1, labels=ts_names, ax=ax, leaf_rotation=90)\n",
    "plt.show()\n",
    "ari4 = adjusted_rand_score(gt, h1)\n",
    "nmi4 = normalized_mutual_info_score(gt, h1)\n",
    "print(f'ari: {ari4} // nmi: {nmi4}')"
   ]
  },
  {
   "cell_type": "code",
   "execution_count": 13,
   "metadata": {},
   "outputs": [
    {
     "data": {
      "image/png": "[encoded data removed]",
      "text/plain": [
       "<Figure size 400x400 with 1 Axes>"
      ]
     },
     "metadata": {},
     "output_type": "display_data"
    }
   ],
   "source": [
    "from sklearn.manifold import MDS\n",
    "\n",
    "mds2 = MDS(n_components=2, dissimilarity='precomputed')\n",
    "points2 = mds2.fit_transform(ds)\n",
    "\n",
    "plt.figure(figsize=(4, 4))\n",
    "scatter = plt.scatter(points2[:, 0], points2[:, 1], c=gt)\n",
    "for i, label in enumerate(ts_names):\n",
    "    #plt.annotate(label[1], (points2[i, 0], points2[i, 1]))\n",
    "    plt.annotate(label, (points2[i, 0], points2[i, 1]))"
   ]
  }
 ],
 "metadata": {
  "kernelspec": {
   "display_name": ".venv",
   "language": "python",
   "name": "python3"
  },
  "language_info": {
   "codemirror_mode": {
    "name": "ipython",
    "version": 3
   },
   "file_extension": ".py",
   "mimetype": "text/x-python",
   "name": "python",
   "nbconvert_exporter": "python",
   "pygments_lexer": "ipython3",
   "version": "3.12.7"
  }
 },
 "nbformat": 4,
 "nbformat_minor": 2
}
