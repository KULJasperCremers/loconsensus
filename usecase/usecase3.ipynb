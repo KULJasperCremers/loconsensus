{
 "cells": [
  {
   "cell_type": "code",
   "execution_count": 1,
   "metadata": {},
   "outputs": [
    {
     "name": "stderr",
     "output_type": "stream",
     "text": [
      "\n",
      "A module that was compiled using NumPy 1.x cannot be run in\n",
      "NumPy 2.0.2 as it may crash. To support both 1.x and 2.x\n",
      "versions of NumPy, modules must be compiled with NumPy 2.0.\n",
      "Some module may need to rebuild instead e.g. with 'pybind11>=2.12'.\n",
      "\n",
      "If you are a user of the module, the easiest solution will be to\n",
      "downgrade to 'numpy<2' or try to upgrade the affected module.\n",
      "We expect that some modules will need time to support NumPy 2.\n",
      "\n",
      "Traceback (most recent call last):  File \"<frozen runpy>\", line 198, in _run_module_as_main\n",
      "  File \"<frozen runpy>\", line 88, in _run_code\n",
      "  File \"c:\\Code\\Repos\\loconsensus\\.venv\\Lib\\site-packages\\ipykernel_launcher.py\", line 18, in <module>\n",
      "    app.launch_new_instance()\n",
      "  File \"c:\\Code\\Repos\\loconsensus\\.venv\\Lib\\site-packages\\traitlets\\config\\application.py\", line 1075, in launch_instance\n",
      "    app.start()\n",
      "  File \"c:\\Code\\Repos\\loconsensus\\.venv\\Lib\\site-packages\\ipykernel\\kernelapp.py\", line 739, in start\n",
      "    self.io_loop.start()\n",
      "  File \"c:\\Code\\Repos\\loconsensus\\.venv\\Lib\\site-packages\\tornado\\platform\\asyncio.py\", line 205, in start\n",
      "    self.asyncio_loop.run_forever()\n",
      "  File \"C:\\Users\\jcremers\\AppData\\Local\\Programs\\Python\\Python312\\Lib\\asyncio\\base_events.py\", line 641, in run_forever\n",
      "    self._run_once()\n",
      "  File \"C:\\Users\\jcremers\\AppData\\Local\\Programs\\Python\\Python312\\Lib\\asyncio\\base_events.py\", line 1986, in _run_once\n",
      "    handle._run()\n",
      "  File \"C:\\Users\\jcremers\\AppData\\Local\\Programs\\Python\\Python312\\Lib\\asyncio\\events.py\", line 88, in _run\n",
      "    self._context.run(self._callback, *self._args)\n",
      "  File \"c:\\Code\\Repos\\loconsensus\\.venv\\Lib\\site-packages\\ipykernel\\kernelbase.py\", line 545, in dispatch_queue\n",
      "    await self.process_one()\n",
      "  File \"c:\\Code\\Repos\\loconsensus\\.venv\\Lib\\site-packages\\ipykernel\\kernelbase.py\", line 534, in process_one\n",
      "    await dispatch(*args)\n",
      "  File \"c:\\Code\\Repos\\loconsensus\\.venv\\Lib\\site-packages\\ipykernel\\kernelbase.py\", line 437, in dispatch_shell\n",
      "    await result\n",
      "  File \"c:\\Code\\Repos\\loconsensus\\.venv\\Lib\\site-packages\\ipykernel\\ipkernel.py\", line 362, in execute_request\n",
      "    await super().execute_request(stream, ident, parent)\n",
      "  File \"c:\\Code\\Repos\\loconsensus\\.venv\\Lib\\site-packages\\ipykernel\\kernelbase.py\", line 778, in execute_request\n",
      "    reply_content = await reply_content\n",
      "  File \"c:\\Code\\Repos\\loconsensus\\.venv\\Lib\\site-packages\\ipykernel\\ipkernel.py\", line 449, in do_execute\n",
      "    res = shell.run_cell(\n",
      "  File \"c:\\Code\\Repos\\loconsensus\\.venv\\Lib\\site-packages\\ipykernel\\zmqshell.py\", line 549, in run_cell\n",
      "    return super().run_cell(*args, **kwargs)\n",
      "  File \"c:\\Code\\Repos\\loconsensus\\.venv\\Lib\\site-packages\\IPython\\core\\interactiveshell.py\", line 3075, in run_cell\n",
      "    result = self._run_cell(\n",
      "  File \"c:\\Code\\Repos\\loconsensus\\.venv\\Lib\\site-packages\\IPython\\core\\interactiveshell.py\", line 3130, in _run_cell\n",
      "    result = runner(coro)\n",
      "  File \"c:\\Code\\Repos\\loconsensus\\.venv\\Lib\\site-packages\\IPython\\core\\async_helpers.py\", line 128, in _pseudo_sync_runner\n",
      "    coro.send(None)\n",
      "  File \"c:\\Code\\Repos\\loconsensus\\.venv\\Lib\\site-packages\\IPython\\core\\interactiveshell.py\", line 3334, in run_cell_async\n",
      "    has_raised = await self.run_ast_nodes(code_ast.body, cell_name,\n",
      "  File \"c:\\Code\\Repos\\loconsensus\\.venv\\Lib\\site-packages\\IPython\\core\\interactiveshell.py\", line 3517, in run_ast_nodes\n",
      "    if await self.run_code(code, result, async_=asy):\n",
      "  File \"c:\\Code\\Repos\\loconsensus\\.venv\\Lib\\site-packages\\IPython\\core\\interactiveshell.py\", line 3577, in run_code\n",
      "    exec(code_obj, self.user_global_ns, self.user_ns)\n",
      "  File \"C:\\Users\\jcremers\\AppData\\Local\\Temp\\ipykernel_1020\\1757904832.py\", line 7, in <module>\n",
      "    from dtaidistance import dtw_ndim\n",
      "  File \"c:\\Code\\Repos\\loconsensus\\.venv\\Lib\\site-packages\\dtaidistance\\__init__.py\", line 19, in <module>\n",
      "    from . import dtw\n",
      "  File \"c:\\Code\\Repos\\loconsensus\\.venv\\Lib\\site-packages\\dtaidistance\\dtw.py\", line 17, in <module>\n",
      "    from . import ed\n",
      "  File \"c:\\Code\\Repos\\loconsensus\\.venv\\Lib\\site-packages\\dtaidistance\\ed.py\", line 16, in <module>\n",
      "    from . import innerdistance\n",
      "  File \"c:\\Code\\Repos\\loconsensus\\.venv\\Lib\\site-packages\\dtaidistance\\innerdistance.py\", line 16, in <module>\n",
      "    from . import util\n",
      "  File \"c:\\Code\\Repos\\loconsensus\\.venv\\Lib\\site-packages\\dtaidistance\\util.py\", line 41, in <module>\n",
      "    from . import dtw_cc_numpy\n",
      "\n",
      "A module that was compiled using NumPy 1.x cannot be run in\n",
      "NumPy 2.0.2 as it may crash. To support both 1.x and 2.x\n",
      "versions of NumPy, modules must be compiled with NumPy 2.0.\n",
      "Some module may need to rebuild instead e.g. with 'pybind11>=2.12'.\n",
      "\n",
      "If you are a user of the module, the easiest solution will be to\n",
      "downgrade to 'numpy<2' or try to upgrade the affected module.\n",
      "We expect that some modules will need time to support NumPy 2.\n",
      "\n",
      "Traceback (most recent call last):  File \"<frozen runpy>\", line 198, in _run_module_as_main\n",
      "  File \"<frozen runpy>\", line 88, in _run_code\n",
      "  File \"c:\\Code\\Repos\\loconsensus\\.venv\\Lib\\site-packages\\ipykernel_launcher.py\", line 18, in <module>\n",
      "    app.launch_new_instance()\n",
      "  File \"c:\\Code\\Repos\\loconsensus\\.venv\\Lib\\site-packages\\traitlets\\config\\application.py\", line 1075, in launch_instance\n",
      "    app.start()\n",
      "  File \"c:\\Code\\Repos\\loconsensus\\.venv\\Lib\\site-packages\\ipykernel\\kernelapp.py\", line 739, in start\n",
      "    self.io_loop.start()\n",
      "  File \"c:\\Code\\Repos\\loconsensus\\.venv\\Lib\\site-packages\\tornado\\platform\\asyncio.py\", line 205, in start\n",
      "    self.asyncio_loop.run_forever()\n",
      "  File \"C:\\Users\\jcremers\\AppData\\Local\\Programs\\Python\\Python312\\Lib\\asyncio\\base_events.py\", line 641, in run_forever\n",
      "    self._run_once()\n",
      "  File \"C:\\Users\\jcremers\\AppData\\Local\\Programs\\Python\\Python312\\Lib\\asyncio\\base_events.py\", line 1986, in _run_once\n",
      "    handle._run()\n",
      "  File \"C:\\Users\\jcremers\\AppData\\Local\\Programs\\Python\\Python312\\Lib\\asyncio\\events.py\", line 88, in _run\n",
      "    self._context.run(self._callback, *self._args)\n",
      "  File \"c:\\Code\\Repos\\loconsensus\\.venv\\Lib\\site-packages\\ipykernel\\kernelbase.py\", line 545, in dispatch_queue\n",
      "    await self.process_one()\n",
      "  File \"c:\\Code\\Repos\\loconsensus\\.venv\\Lib\\site-packages\\ipykernel\\kernelbase.py\", line 534, in process_one\n",
      "    await dispatch(*args)\n",
      "  File \"c:\\Code\\Repos\\loconsensus\\.venv\\Lib\\site-packages\\ipykernel\\kernelbase.py\", line 437, in dispatch_shell\n",
      "    await result\n",
      "  File \"c:\\Code\\Repos\\loconsensus\\.venv\\Lib\\site-packages\\ipykernel\\ipkernel.py\", line 362, in execute_request\n",
      "    await super().execute_request(stream, ident, parent)\n",
      "  File \"c:\\Code\\Repos\\loconsensus\\.venv\\Lib\\site-packages\\ipykernel\\kernelbase.py\", line 778, in execute_request\n",
      "    reply_content = await reply_content\n",
      "  File \"c:\\Code\\Repos\\loconsensus\\.venv\\Lib\\site-packages\\ipykernel\\ipkernel.py\", line 449, in do_execute\n",
      "    res = shell.run_cell(\n",
      "  File \"c:\\Code\\Repos\\loconsensus\\.venv\\Lib\\site-packages\\ipykernel\\zmqshell.py\", line 549, in run_cell\n",
      "    return super().run_cell(*args, **kwargs)\n",
      "  File \"c:\\Code\\Repos\\loconsensus\\.venv\\Lib\\site-packages\\IPython\\core\\interactiveshell.py\", line 3075, in run_cell\n",
      "    result = self._run_cell(\n",
      "  File \"c:\\Code\\Repos\\loconsensus\\.venv\\Lib\\site-packages\\IPython\\core\\interactiveshell.py\", line 3130, in _run_cell\n",
      "    result = runner(coro)\n",
      "  File \"c:\\Code\\Repos\\loconsensus\\.venv\\Lib\\site-packages\\IPython\\core\\async_helpers.py\", line 128, in _pseudo_sync_runner\n",
      "    coro.send(None)\n",
      "  File \"c:\\Code\\Repos\\loconsensus\\.venv\\Lib\\site-packages\\IPython\\core\\interactiveshell.py\", line 3334, in run_cell_async\n",
      "    has_raised = await self.run_ast_nodes(code_ast.body, cell_name,\n",
      "  File \"c:\\Code\\Repos\\loconsensus\\.venv\\Lib\\site-packages\\IPython\\core\\interactiveshell.py\", line 3517, in run_ast_nodes\n",
      "    if await self.run_code(code, result, async_=asy):\n",
      "  File \"c:\\Code\\Repos\\loconsensus\\.venv\\Lib\\site-packages\\IPython\\core\\interactiveshell.py\", line 3577, in run_code\n",
      "    exec(code_obj, self.user_global_ns, self.user_ns)\n",
      "  File \"C:\\Users\\jcremers\\AppData\\Local\\Temp\\ipykernel_1020\\1757904832.py\", line 7, in <module>\n",
      "    from dtaidistance import dtw_ndim\n",
      "  File \"c:\\Code\\Repos\\loconsensus\\.venv\\Lib\\site-packages\\dtaidistance\\__init__.py\", line 19, in <module>\n",
      "    from . import dtw\n",
      "  File \"c:\\Code\\Repos\\loconsensus\\.venv\\Lib\\site-packages\\dtaidistance\\dtw.py\", line 46, in <module>\n",
      "    from . import dtw_cc_numpy\n"
     ]
    }
   ],
   "source": [
    "import loconsensus.loconsensus as loconsensus\n",
    "import locomotif.visualize as visualize\n",
    "import matplotlib.pyplot as plt\n",
    "import pickle\n",
    "import numpy as np\n",
    "from pathlib import Path\n",
    "from dtaidistance import dtw_ndim\n",
    "\n",
    "s_dir = Path('../pickles/subjects.pkl')\n",
    "with open(s_dir, 'rb') as f:\n",
    "    subjects = pickle.load(f)"
   ]
  },
  {
   "cell_type": "code",
   "execution_count": null,
   "metadata": {},
   "outputs": [],
   "source": [
    "\"\"\" Single experiment data.\n",
    "ts_names = [(1, 'walking'), (2, 'walking'), (3, 'walking'), (4, 'walking'), (5, 'walking'), (6, 'walking'), (7, 'walking'), (8, 'walking'), (1, 'cycling'), (2, 'cycling'), (4, 'cycling'), (5, 'cycling'), (6, 'cycling'), (7, 'cycling'), (8, 'cycling'), (1, 'desc_stairs'), (2, 'desc_stairs'), (3, 'desc_stairs'), (4, 'desc_stairs'), (5, 'desc_stairs'), (6, 'desc_stairs'), (7, 'desc_stairs'), (8, 'desc_stairs'), (1, 'rope_jumping'), (2, 'rope_jumping'), (5, 'rope_jumping'), (8, 'rope_jumping'), (9, 'rope_jumping')]\n",
    "gt = [0, 0, 0, 0, 0, 0, 0, 0,  1, 1, 1, 1, 1, 1, 1,      2, 2, 2, 2, 2, 2, 2, 2,      3, 3, 3, 3, 3      ]\n",
    "\"\"\""
   ]
  },
  {
   "cell_type": "code",
   "execution_count": 2,
   "metadata": {},
   "outputs": [],
   "source": [
    "sampling_frequency = 10\n",
    "ts_names = [(1, 'walking'),     (1, 'running'),\n",
    "            (2, 'walking'),     (2, 'running'),\n",
    "            (5, 'walking'),     (5, 'running'),\n",
    "            (6, 'running'),     (6, 'walking'),\n",
    "            (8, 'walking'),     (8, 'running'),\n",
    "            (1, 'cycling'),     (1, 'desc_stairs'),\n",
    "            (2, 'desc_stairs'), (2, 'cycling'),\n",
    "            (4, 'cycling'),     (4, 'desc_stairs'),\n",
    "            (5, 'desc_stairs'), (5, 'cycling'),\n",
    "            (6, 'cycling'),     (6, 'desc_stairs'),\n",
    "            (7, 'desc_stairs'), (7, 'cycling'),\n",
    "            (8, 'cycling'),     (8, 'desc_stairs'),\n",
    "            (1, 'rope_jumping'),(1, 'ironing'),\n",
    "            (2, 'ironing'),     (2, 'rope_jumping'),\n",
    "            (5, 'rope_jumping'),(5, 'ironing'),\n",
    "            (8, 'ironing'),     (8, 'rope_jumping')]\n",
    "gt = [0,0,0,0,0,\n",
    "      1,1,1,1,1,1,1,\n",
    "      2,2,2,2\n",
    "      ]\n",
    "assert len(ts_names) == len(gt) * 2\n",
    "ts_list = [subjects.get(f'subject10{subject}').get(activity) for (subject, activity) in ts_names]\n",
    "ts_list = [ts[:, 6:] for ts in ts_list]\n"
   ]
  },
  {
   "cell_type": "code",
   "execution_count": 3,
   "metadata": {},
   "outputs": [
    {
     "name": "stdout",
     "output_type": "stream",
     "text": [
      "(4353, 3)\n",
      "(4178, 3)\n",
      "(5669, 3)\n",
      "(4856, 3)\n",
      "(4808, 3)\n",
      "(3100, 3)\n",
      "(3254, 3)\n",
      "(2966, 3)\n",
      "(3033, 3)\n",
      "(2559, 3)\n",
      "(2801, 3)\n",
      "(3029, 3)\n",
      "(3650, 3)\n",
      "(4215, 3)\n",
      "(4078, 3)\n",
      "(4180, 3)\n"
     ]
    }
   ],
   "source": [
    "it = iter(ts_list)\n",
    "ts_list = [np.concatenate((ts1, ts2)) for ts1, ts2 in zip(it,it)]\n",
    "assert len(ts_list) == len(gt)\n",
    "\n",
    "for ts in ts_list:\n",
    "    print(ts.shape)"
   ]
  },
  {
   "cell_type": "code",
   "execution_count": 4,
   "metadata": {},
   "outputs": [
    {
     "name": "stdout",
     "output_type": "stream",
     "text": [
      "[[0.         0.59802538 0.72090242 0.81538686 0.93364872 0.84256428\n",
      "  0.82533453 0.84202378 0.86280363 0.83970667 0.82395814 0.87426951\n",
      "  0.88609818 0.86286112 0.88557596 0.91049626]\n",
      " [0.59802538 0.         0.76777262 0.85057848 0.87652292 0.82483648\n",
      "  0.76830872 0.85073508 0.85834535 0.81591088 0.81312361 0.78632403\n",
      "  0.81872882 0.78041171 0.81137385 0.84628082]\n",
      " [0.72090242 0.76777262 0.         0.89549144 0.94155408 0.95392108\n",
      "  0.94924741 0.92729524 0.94352873 0.93798157 0.9367833  0.96694685\n",
      "  0.97805014 0.96601224 0.97435889 0.98216363]\n",
      " [0.81538686 0.85057848 0.89549144 0.         1.         0.89093456\n",
      "  0.87832898 0.87637494 0.88361988 0.89213256 0.84843974 0.98304616\n",
      "  0.88924173 0.91662726 0.90916322 0.95829075]\n",
      " [0.93364872 0.87652292 0.94155408 1.         0.         0.90054319\n",
      "  0.84131497 0.89917148 0.92845704 0.87096787 0.89183521 0.8312352\n",
      "  0.93470981 0.84186593 0.91119498 0.86172368]\n",
      " [0.84256428 0.82483648 0.95392108 0.89093456 0.90054319 0.\n",
      "  0.62354279 0.52613022 0.58370821 0.44902138 0.5496268  0.72866015\n",
      "  0.61407354 0.60279628 0.58713557 0.6665038 ]\n",
      " [0.82533453 0.76830872 0.94924741 0.87832898 0.84131497 0.62354279\n",
      "  0.         0.64443246 0.62175014 0.58242844 0.50197725 0.64760989\n",
      "  0.66639903 0.5981742  0.65808681 0.65463791]\n",
      " [0.84202378 0.85073508 0.92729524 0.87637494 0.89917148 0.52613022\n",
      "  0.64443246 0.         0.63088143 0.51430218 0.61280127 0.76674953\n",
      "  0.65322589 0.66570719 0.64060247 0.67633833]\n",
      " [0.86280363 0.85834535 0.94352873 0.88361988 0.92845704 0.58370821\n",
      "  0.62175014 0.63088143 0.         0.59138317 0.48534109 0.75067971\n",
      "  0.60133179 0.62749105 0.59043461 0.71056445]\n",
      " [0.83970667 0.81591088 0.93798157 0.89213256 0.87096787 0.44902138\n",
      "  0.58242844 0.51430218 0.59138317 0.         0.54479651 0.67454962\n",
      "  0.60965345 0.5806432  0.58630731 0.6498003 ]\n",
      " [0.82395814 0.81312361 0.9367833  0.84843974 0.89183521 0.5496268\n",
      "  0.50197725 0.61280127 0.48534109 0.54479651 0.         0.71087149\n",
      "  0.59511777 0.60781291 0.58544243 0.6613778 ]\n",
      " [0.87426951 0.78632403 0.96694685 0.98304616 0.8312352  0.72866015\n",
      "  0.64760989 0.76674953 0.75067971 0.67454962 0.71087149 0.\n",
      "  0.7399638  0.57693546 0.69271187 0.60105719]\n",
      " [0.88609818 0.81872882 0.97805014 0.88924173 0.93470981 0.61407354\n",
      "  0.66639903 0.65322589 0.60133179 0.60965345 0.59511777 0.7399638\n",
      "  0.         0.56906748 0.47691024 0.68575942]\n",
      " [0.86286112 0.78041171 0.96601224 0.91662726 0.84186593 0.60279628\n",
      "  0.5981742  0.66570719 0.62749105 0.5806432  0.60781291 0.57693546\n",
      "  0.56906748 0.         0.59263613 0.5522738 ]\n",
      " [0.88557596 0.81137385 0.97435889 0.90916322 0.91119498 0.58713557\n",
      "  0.65808681 0.64060247 0.59043461 0.58630731 0.58544243 0.69271187\n",
      "  0.47691024 0.59263613 0.         0.59880716]\n",
      " [0.91049626 0.84628082 0.98216363 0.95829075 0.86172368 0.6665038\n",
      "  0.65463791 0.67633833 0.71056445 0.6498003  0.6613778  0.60105719\n",
      "  0.68575942 0.5522738  0.59880716 0.        ]]\n"
     ]
    }
   ],
   "source": [
    "ds = dtw_ndim.distance_matrix(ts_list, use_c=True)\n",
    "ds = (ds - ds.min()) / (ds.max() - ds.min())\n",
    "print(ds)"
   ]
  },
  {
   "cell_type": "code",
   "execution_count": 5,
   "metadata": {},
   "outputs": [],
   "source": [
    "global_offsets = np.cumsum([0] + [len(ts) for ts in ts_list])\n",
    "l_min = 15\n",
    "l_max = 30\n",
    "rho = 0.8\n",
    "\n",
    "nb = None"
   ]
  },
  {
   "cell_type": "code",
   "execution_count": 7,
   "metadata": {},
   "outputs": [
    {
     "ename": "MemoryError",
     "evalue": "Unable to allocate 60.6 MiB for an array with shape (15878869,) and data type float32",
     "output_type": "error",
     "traceback": [
      "\u001b[1;31m---------------------------------------------------------------------------\u001b[0m",
      "\u001b[1;31mMemoryError\u001b[0m                               Traceback (most recent call last)",
      "Cell \u001b[1;32mIn[7], line 1\u001b[0m\n\u001b[1;32m----> 1\u001b[0m ms \u001b[38;5;241m=\u001b[39m \u001b[43mloconsensus\u001b[49m\u001b[38;5;241;43m.\u001b[39;49m\u001b[43mapply_loconsensus\u001b[49m\u001b[43m(\u001b[49m\u001b[43mts_list\u001b[49m\u001b[43m,\u001b[49m\u001b[43m \u001b[49m\u001b[43ml_min\u001b[49m\u001b[43m,\u001b[49m\u001b[43m \u001b[49m\u001b[43ml_max\u001b[49m\u001b[43m,\u001b[49m\u001b[43m \u001b[49m\u001b[43mrho\u001b[49m\u001b[43m,\u001b[49m\u001b[43m \u001b[49m\u001b[43mnb\u001b[49m\u001b[43m,\u001b[49m\u001b[43m \u001b[49m\u001b[43moverlap\u001b[49m\u001b[38;5;241;43m=\u001b[39;49m\u001b[38;5;241;43m0.5\u001b[39;49m\u001b[43m)\u001b[49m\n\u001b[0;32m      2\u001b[0m \u001b[38;5;28;01mimport\u001b[39;00m\u001b[38;5;250m \u001b[39m\u001b[38;5;21;01mpickle\u001b[39;00m\n\u001b[0;32m      3\u001b[0m \u001b[38;5;28;01mwith\u001b[39;00m \u001b[38;5;28mopen\u001b[39m(\u001b[38;5;124m'\u001b[39m\u001b[38;5;124m../pickles/cm_double.pkl\u001b[39m\u001b[38;5;124m'\u001b[39m, \u001b[38;5;124m'\u001b[39m\u001b[38;5;124mwb\u001b[39m\u001b[38;5;124m'\u001b[39m) \u001b[38;5;28;01mas\u001b[39;00m handle:\n",
      "File \u001b[1;32mC:\\Code\\Repos\\loconsensus\\loconsensus\\loconsensus.py:36\u001b[0m, in \u001b[0;36mapply_loconsensus\u001b[1;34m(ts_list, l_min, l_max, rho, nb, overlap)\u001b[0m\n\u001b[0;32m     33\u001b[0m args_list \u001b[38;5;241m=\u001b[39m []\n\u001b[0;32m     35\u001b[0m \u001b[38;5;28;01mfor\u001b[39;00m cindex, (ts1, ts2) \u001b[38;5;129;01min\u001b[39;00m \u001b[38;5;28menumerate\u001b[39m(combinations_with_replacement(ts_list, \u001b[38;5;241m2\u001b[39m)):\n\u001b[1;32m---> 36\u001b[0m     lcc \u001b[38;5;241m=\u001b[39m \u001b[43mget_lococonsensus_instance\u001b[49m\u001b[43m(\u001b[49m\n\u001b[0;32m     37\u001b[0m \u001b[43m        \u001b[49m\u001b[43mts1\u001b[49m\u001b[43m,\u001b[49m\u001b[43m \u001b[49m\u001b[43mts2\u001b[49m\u001b[43m,\u001b[49m\u001b[43m \u001b[49m\u001b[43mglobal_offsets\u001b[49m\u001b[43m,\u001b[49m\u001b[43m \u001b[49m\u001b[43moffset_indices\u001b[49m\u001b[43m[\u001b[49m\u001b[43mcindex\u001b[49m\u001b[43m]\u001b[49m\u001b[43m,\u001b[49m\u001b[43m \u001b[49m\u001b[43ml_min\u001b[49m\u001b[43m,\u001b[49m\u001b[43m \u001b[49m\u001b[43mrho\u001b[49m\u001b[43m,\u001b[49m\u001b[43m \u001b[49m\u001b[43mcindex\u001b[49m\u001b[43m,\u001b[49m\u001b[43m \u001b[49m\u001b[43mn\u001b[49m\n\u001b[0;32m     38\u001b[0m \u001b[43m    \u001b[49m\u001b[43m)\u001b[49m\n\u001b[0;32m     39\u001b[0m     lccs\u001b[38;5;241m.\u001b[39mappend(lcc)\n\u001b[0;32m     40\u001b[0m     args_list\u001b[38;5;241m.\u001b[39mappend(lcc)\n",
      "File \u001b[1;32mC:\\Code\\Repos\\loconsensus\\loconsensus\\loconsensus.py:78\u001b[0m, in \u001b[0;36mget_lococonsensus_instance\u001b[1;34m(ts1, ts2, global_offsets, offset_indices, l_min, rho, cindex, n)\u001b[0m\n\u001b[0;32m     76\u001b[0m \u001b[38;5;28;01melse\u001b[39;00m:\n\u001b[0;32m     77\u001b[0m     ut_sm \u001b[38;5;241m=\u001b[39m calculate_similarity_matrix(ts1, ts2, gamma, only_triu\u001b[38;5;241m=\u001b[39mis_diagonal)\n\u001b[1;32m---> 78\u001b[0m     tau \u001b[38;5;241m=\u001b[39m \u001b[43mestimate_tau_assymmetric\u001b[49m\u001b[43m(\u001b[49m\u001b[43mut_sm\u001b[49m\u001b[43m,\u001b[49m\u001b[43m \u001b[49m\u001b[43mrho\u001b[49m\u001b[43m)\u001b[49m\n\u001b[0;32m     80\u001b[0m delta_a \u001b[38;5;241m=\u001b[39m \u001b[38;5;241m2\u001b[39m \u001b[38;5;241m*\u001b[39m tau\n\u001b[0;32m     81\u001b[0m delta_m \u001b[38;5;241m=\u001b[39m \u001b[38;5;241m0.5\u001b[39m\n",
      "File \u001b[1;32mC:\\Code\\Repos\\loconsensus\\loconsensus\\loconsensus.py:358\u001b[0m, in \u001b[0;36mestimate_tau_assymmetric\u001b[1;34m(sm, rho)\u001b[0m\n\u001b[0;32m    357\u001b[0m \u001b[38;5;28;01mdef\u001b[39;00m\u001b[38;5;250m \u001b[39m\u001b[38;5;21mestimate_tau_assymmetric\u001b[39m(sm, rho):\n\u001b[1;32m--> 358\u001b[0m     tau \u001b[38;5;241m=\u001b[39m \u001b[43mnp\u001b[49m\u001b[38;5;241;43m.\u001b[39;49m\u001b[43mquantile\u001b[49m\u001b[43m(\u001b[49m\u001b[43msm\u001b[49m\u001b[43m,\u001b[49m\u001b[43m \u001b[49m\u001b[43mrho\u001b[49m\u001b[43m,\u001b[49m\u001b[43m \u001b[49m\u001b[43maxis\u001b[49m\u001b[38;5;241;43m=\u001b[39;49m\u001b[38;5;28;43;01mNone\u001b[39;49;00m\u001b[43m)\u001b[49m\n\u001b[0;32m    359\u001b[0m     \u001b[38;5;28;01mreturn\u001b[39;00m tau\n",
      "File \u001b[1;32mc:\\Code\\Repos\\loconsensus\\.venv\\Lib\\site-packages\\numpy\\lib\\_function_base_impl.py:4663\u001b[0m, in \u001b[0;36mquantile\u001b[1;34m(a, q, axis, out, overwrite_input, method, keepdims, weights, interpolation)\u001b[0m\n\u001b[0;32m   4660\u001b[0m     \u001b[38;5;28;01mif\u001b[39;00m np\u001b[38;5;241m.\u001b[39many(weights \u001b[38;5;241m<\u001b[39m \u001b[38;5;241m0\u001b[39m):\n\u001b[0;32m   4661\u001b[0m         \u001b[38;5;28;01mraise\u001b[39;00m \u001b[38;5;167;01mValueError\u001b[39;00m(\u001b[38;5;124m\"\u001b[39m\u001b[38;5;124mWeights must be non-negative.\u001b[39m\u001b[38;5;124m\"\u001b[39m)\n\u001b[1;32m-> 4663\u001b[0m \u001b[38;5;28;01mreturn\u001b[39;00m \u001b[43m_quantile_unchecked\u001b[49m\u001b[43m(\u001b[49m\n\u001b[0;32m   4664\u001b[0m \u001b[43m    \u001b[49m\u001b[43ma\u001b[49m\u001b[43m,\u001b[49m\u001b[43m \u001b[49m\u001b[43mq\u001b[49m\u001b[43m,\u001b[49m\u001b[43m \u001b[49m\u001b[43maxis\u001b[49m\u001b[43m,\u001b[49m\u001b[43m \u001b[49m\u001b[43mout\u001b[49m\u001b[43m,\u001b[49m\u001b[43m \u001b[49m\u001b[43moverwrite_input\u001b[49m\u001b[43m,\u001b[49m\u001b[43m \u001b[49m\u001b[43mmethod\u001b[49m\u001b[43m,\u001b[49m\u001b[43m \u001b[49m\u001b[43mkeepdims\u001b[49m\u001b[43m,\u001b[49m\u001b[43m \u001b[49m\u001b[43mweights\u001b[49m\u001b[43m)\u001b[49m\n",
      "File \u001b[1;32mc:\\Code\\Repos\\loconsensus\\.venv\\Lib\\site-packages\\numpy\\lib\\_function_base_impl.py:4676\u001b[0m, in \u001b[0;36m_quantile_unchecked\u001b[1;34m(a, q, axis, out, overwrite_input, method, keepdims, weights)\u001b[0m\n\u001b[0;32m   4667\u001b[0m \u001b[38;5;28;01mdef\u001b[39;00m\u001b[38;5;250m \u001b[39m\u001b[38;5;21m_quantile_unchecked\u001b[39m(a,\n\u001b[0;32m   4668\u001b[0m                         q,\n\u001b[0;32m   4669\u001b[0m                         axis\u001b[38;5;241m=\u001b[39m\u001b[38;5;28;01mNone\u001b[39;00m,\n\u001b[1;32m   (...)\u001b[0m\n\u001b[0;32m   4673\u001b[0m                         keepdims\u001b[38;5;241m=\u001b[39m\u001b[38;5;28;01mFalse\u001b[39;00m,\n\u001b[0;32m   4674\u001b[0m                         weights\u001b[38;5;241m=\u001b[39m\u001b[38;5;28;01mNone\u001b[39;00m):\n\u001b[0;32m   4675\u001b[0m \u001b[38;5;250m    \u001b[39m\u001b[38;5;124;03m\"\"\"Assumes that q is in [0, 1], and is an ndarray\"\"\"\u001b[39;00m\n\u001b[1;32m-> 4676\u001b[0m     \u001b[38;5;28;01mreturn\u001b[39;00m \u001b[43m_ureduce\u001b[49m\u001b[43m(\u001b[49m\u001b[43ma\u001b[49m\u001b[43m,\u001b[49m\n\u001b[0;32m   4677\u001b[0m \u001b[43m                    \u001b[49m\u001b[43mfunc\u001b[49m\u001b[38;5;241;43m=\u001b[39;49m\u001b[43m_quantile_ureduce_func\u001b[49m\u001b[43m,\u001b[49m\n\u001b[0;32m   4678\u001b[0m \u001b[43m                    \u001b[49m\u001b[43mq\u001b[49m\u001b[38;5;241;43m=\u001b[39;49m\u001b[43mq\u001b[49m\u001b[43m,\u001b[49m\n\u001b[0;32m   4679\u001b[0m \u001b[43m                    \u001b[49m\u001b[43mweights\u001b[49m\u001b[38;5;241;43m=\u001b[39;49m\u001b[43mweights\u001b[49m\u001b[43m,\u001b[49m\n\u001b[0;32m   4680\u001b[0m \u001b[43m                    \u001b[49m\u001b[43mkeepdims\u001b[49m\u001b[38;5;241;43m=\u001b[39;49m\u001b[43mkeepdims\u001b[49m\u001b[43m,\u001b[49m\n\u001b[0;32m   4681\u001b[0m \u001b[43m                    \u001b[49m\u001b[43maxis\u001b[49m\u001b[38;5;241;43m=\u001b[39;49m\u001b[43maxis\u001b[49m\u001b[43m,\u001b[49m\n\u001b[0;32m   4682\u001b[0m \u001b[43m                    \u001b[49m\u001b[43mout\u001b[49m\u001b[38;5;241;43m=\u001b[39;49m\u001b[43mout\u001b[49m\u001b[43m,\u001b[49m\n\u001b[0;32m   4683\u001b[0m \u001b[43m                    \u001b[49m\u001b[43moverwrite_input\u001b[49m\u001b[38;5;241;43m=\u001b[39;49m\u001b[43moverwrite_input\u001b[49m\u001b[43m,\u001b[49m\n\u001b[0;32m   4684\u001b[0m \u001b[43m                    \u001b[49m\u001b[43mmethod\u001b[49m\u001b[38;5;241;43m=\u001b[39;49m\u001b[43mmethod\u001b[49m\u001b[43m)\u001b[49m\n",
      "File \u001b[1;32mc:\\Code\\Repos\\loconsensus\\.venv\\Lib\\site-packages\\numpy\\lib\\_function_base_impl.py:3764\u001b[0m, in \u001b[0;36m_ureduce\u001b[1;34m(a, func, keepdims, **kwargs)\u001b[0m\n\u001b[0;32m   3761\u001b[0m             index_out \u001b[38;5;241m=\u001b[39m (\u001b[38;5;241m0\u001b[39m, ) \u001b[38;5;241m*\u001b[39m nd\n\u001b[0;32m   3762\u001b[0m             kwargs[\u001b[38;5;124m'\u001b[39m\u001b[38;5;124mout\u001b[39m\u001b[38;5;124m'\u001b[39m] \u001b[38;5;241m=\u001b[39m out[(\u001b[38;5;28mEllipsis\u001b[39m, ) \u001b[38;5;241m+\u001b[39m index_out]\n\u001b[1;32m-> 3764\u001b[0m r \u001b[38;5;241m=\u001b[39m \u001b[43mfunc\u001b[49m\u001b[43m(\u001b[49m\u001b[43ma\u001b[49m\u001b[43m,\u001b[49m\u001b[43m \u001b[49m\u001b[38;5;241;43m*\u001b[39;49m\u001b[38;5;241;43m*\u001b[39;49m\u001b[43mkwargs\u001b[49m\u001b[43m)\u001b[49m\n\u001b[0;32m   3766\u001b[0m \u001b[38;5;28;01mif\u001b[39;00m out \u001b[38;5;129;01mis\u001b[39;00m \u001b[38;5;129;01mnot\u001b[39;00m \u001b[38;5;28;01mNone\u001b[39;00m:\n\u001b[0;32m   3767\u001b[0m     \u001b[38;5;28;01mreturn\u001b[39;00m out\n",
      "File \u001b[1;32mc:\\Code\\Repos\\loconsensus\\.venv\\Lib\\site-packages\\numpy\\lib\\_function_base_impl.py:4848\u001b[0m, in \u001b[0;36m_quantile_ureduce_func\u001b[1;34m(a, q, weights, axis, out, overwrite_input, method)\u001b[0m\n\u001b[0;32m   4846\u001b[0m \u001b[38;5;28;01mif\u001b[39;00m axis \u001b[38;5;129;01mis\u001b[39;00m \u001b[38;5;28;01mNone\u001b[39;00m:\n\u001b[0;32m   4847\u001b[0m     axis \u001b[38;5;241m=\u001b[39m \u001b[38;5;241m0\u001b[39m\n\u001b[1;32m-> 4848\u001b[0m     arr \u001b[38;5;241m=\u001b[39m \u001b[43ma\u001b[49m\u001b[38;5;241;43m.\u001b[39;49m\u001b[43mflatten\u001b[49m\u001b[43m(\u001b[49m\u001b[43m)\u001b[49m\n\u001b[0;32m   4849\u001b[0m     wgt \u001b[38;5;241m=\u001b[39m \u001b[38;5;28;01mNone\u001b[39;00m \u001b[38;5;28;01mif\u001b[39;00m weights \u001b[38;5;129;01mis\u001b[39;00m \u001b[38;5;28;01mNone\u001b[39;00m \u001b[38;5;28;01melse\u001b[39;00m weights\u001b[38;5;241m.\u001b[39mflatten()\n\u001b[0;32m   4850\u001b[0m \u001b[38;5;28;01melse\u001b[39;00m:\n",
      "\u001b[1;31mMemoryError\u001b[0m: Unable to allocate 60.6 MiB for an array with shape (15878869,) and data type float32"
     ]
    }
   ],
   "source": [
    "ms = loconsensus.apply_loconsensus(ts_list, l_min, l_max, rho, nb, overlap=0.5)\n",
    "import pickle\n",
    "with open('../pickles/cm_double.pkl', 'wb') as handle:\n",
    "    pickle.dump(ms, handle)\n",
    "#with open('../pickles/cm_single.pkl', 'rb') as handle:\n",
    "    #ms = pickle.load(handle)"
   ]
  },
  {
   "cell_type": "code",
   "execution_count": 2,
   "metadata": {},
   "outputs": [
    {
     "ename": "NameError",
     "evalue": "name 'ms' is not defined",
     "output_type": "error",
     "traceback": [
      "\u001b[1;31m---------------------------------------------------------------------------\u001b[0m",
      "\u001b[1;31mNameError\u001b[0m                                 Traceback (most recent call last)",
      "Cell \u001b[1;32mIn[2], line 3\u001b[0m\n\u001b[0;32m      1\u001b[0m \u001b[38;5;28;01mimport\u001b[39;00m\u001b[38;5;250m \u001b[39m\u001b[38;5;21;01mpickle\u001b[39;00m\n\u001b[0;32m      2\u001b[0m \u001b[38;5;28;01mwith\u001b[39;00m \u001b[38;5;28mopen\u001b[39m(\u001b[38;5;124m'\u001b[39m\u001b[38;5;124m../pickles/cm_double.pkl\u001b[39m\u001b[38;5;124m'\u001b[39m, \u001b[38;5;124m'\u001b[39m\u001b[38;5;124mwb\u001b[39m\u001b[38;5;124m'\u001b[39m) \u001b[38;5;28;01mas\u001b[39;00m handle:\n\u001b[1;32m----> 3\u001b[0m     pickle\u001b[38;5;241m.\u001b[39mdump(\u001b[43mms\u001b[49m, handle)\n",
      "\u001b[1;31mNameError\u001b[0m: name 'ms' is not defined"
     ]
    }
   ],
   "source": []
  },
  {
   "cell_type": "code",
   "execution_count": 7,
   "metadata": {},
   "outputs": [
    {
     "name": "stdout",
     "output_type": "stream",
     "text": [
      "[[463. 220. 200. 209. 167.  87. 108. 110.  96.  68.  80.  85. 109.  85.\n",
      "  146. 166.]\n",
      " [220. 394. 232. 227. 143.  91. 106. 116.  92.  71.  79. 105. 119. 100.\n",
      "  169. 207.]\n",
      " [200. 232. 537. 283. 135.  80.  81.  96.  80.  71.  76.  64.  89.  66.\n",
      "  152. 190.]\n",
      " [209. 227. 283. 484. 124.  67.  65.  85.  69.  62.  64.  55.  65.  43.\n",
      "  135. 183.]\n",
      " [167. 143. 135. 124. 454. 107. 115. 127. 112.  81.  96.  82. 128. 104.\n",
      "  152. 161.]\n",
      " [ 87.  91.  80.  67. 107. 345. 202. 165. 229. 177. 234. 139. 127. 113.\n",
      "  114. 106.]\n",
      " [108. 106.  81.  65. 115. 202. 331. 140. 177. 162. 166. 157. 150. 127.\n",
      "  105.  91.]\n",
      " [110. 116.  96.  85. 127. 165. 140. 320. 143. 116. 112.  85. 106.  89.\n",
      "  110. 109.]\n",
      " [ 96.  92.  80.  69. 112. 229. 177. 143. 311. 179. 202. 139. 120. 111.\n",
      "  125. 116.]\n",
      " [ 68.  71.  71.  62.  81. 177. 162. 116. 179. 245. 175. 113.  94.  70.\n",
      "   93.  94.]\n",
      " [ 80.  79.  76.  64.  96. 234. 166. 112. 202. 175. 290. 138. 118.  90.\n",
      "  111. 111.]\n",
      " [ 85. 105.  64.  55.  82. 139. 157.  85. 139. 113. 138. 290. 123. 122.\n",
      "  121. 112.]\n",
      " [109. 119.  89.  65. 128. 127. 150. 106. 120.  94. 118. 123. 337. 232.\n",
      "  191. 164.]\n",
      " [ 85. 100.  66.  43. 104. 113. 127.  89. 111.  70.  90. 122. 232. 397.\n",
      "  214. 153.]\n",
      " [146. 169. 152. 135. 152. 114. 105. 110. 125.  93. 111. 121. 191. 214.\n",
      "  379. 278.]\n",
      " [166. 207. 190. 183. 161. 106.  91. 109. 116.  94. 111. 112. 164. 153.\n",
      "  278. 383.]]\n",
      "(16, 16)\n"
     ]
    }
   ],
   "source": [
    "n = len(ts_list)\n",
    "\n",
    "cm = []\n",
    "for _, mset, _, bf in ms:\n",
    "    cm.append((mset, bf))\n",
    "\n",
    "cms = []\n",
    "for mset, bf in cm:\n",
    "    m = {i: [] for i in range(len(ts_list))}\n",
    "    for (s, e) in mset:\n",
    "        i = np.sum(global_offsets <= s) - 1\n",
    "        m[i].append(((s - global_offsets[i], e - global_offsets[i]), bf))\n",
    "    cms.append(m)\n",
    "\n",
    "S = np.zeros((n, n))\n",
    "\n",
    "for cs in cms:\n",
    "    for i in range(n):\n",
    "        for j in range(n):\n",
    "            cs1 = cs[i]\n",
    "            cs2 = cs[j]\n",
    "            mbf = 0\n",
    "            for c in cs1:\n",
    "                smbf = c[1]\n",
    "                if smbf > mbf:\n",
    "                    mbf = smbf\n",
    "            for c in cs2:\n",
    "                smbf = c[1]\n",
    "                if smbf > mbf:\n",
    "                    mbf = smbf\n",
    "            if mbf == 0:\n",
    "                continue\n",
    "            # print(f'{mbf} // {len(cs1)} {len(cs2)}')\n",
    "            S[i, j] += min(len(cs1), len(cs2))\n",
    "            #S[i, j] += mbf * min(len(cs1), len(cs2))\n",
    "print(S)\n",
    "smin = S.min()\n",
    "smax = S.max()\n",
    "S = (S - smin) / (smax - smin)\n",
    "\n",
    "D = 1 - S\n",
    "D[np.diag_indices(len(D))] = 0\n",
    "print(D.shape)"
   ]
  },
  {
   "cell_type": "code",
   "execution_count": 8,
   "metadata": {},
   "outputs": [
    {
     "name": "stdout",
     "output_type": "stream",
     "text": [
      "[[0.85020243 0.3582996  0.31781377 0.33603239 0.25101215 0.08906883\n",
      "  0.13157895 0.13562753 0.10728745 0.05060729 0.07489879 0.08502024\n",
      "  0.13360324 0.08502024 0.20850202 0.24898785]\n",
      " [0.3582996  0.71052632 0.38259109 0.37246964 0.20242915 0.09716599\n",
      "  0.12753036 0.14777328 0.09919028 0.05668016 0.07287449 0.12550607\n",
      "  0.15384615 0.11538462 0.25506073 0.33198381]\n",
      " [0.31781377 0.38259109 1.         0.48582996 0.18623482 0.07489879\n",
      "  0.07692308 0.10728745 0.07489879 0.05668016 0.06680162 0.04251012\n",
      "  0.09311741 0.0465587  0.22064777 0.29757085]\n",
      " [0.33603239 0.37246964 0.48582996 0.89271255 0.16396761 0.048583\n",
      "  0.04453441 0.08502024 0.05263158 0.03846154 0.04251012 0.0242915\n",
      "  0.04453441 0.         0.18623482 0.28340081]\n",
      " [0.25101215 0.20242915 0.18623482 0.16396761 0.83198381 0.12955466\n",
      "  0.14574899 0.17004049 0.13967611 0.07692308 0.10728745 0.07894737\n",
      "  0.17206478 0.12348178 0.22064777 0.2388664 ]\n",
      " [0.08906883 0.09716599 0.07489879 0.048583   0.12955466 0.61133603\n",
      "  0.32186235 0.24696356 0.37651822 0.27125506 0.38663968 0.19433198\n",
      "  0.17004049 0.1417004  0.1437247  0.12753036]\n",
      " [0.13157895 0.12753036 0.07692308 0.04453441 0.14574899 0.32186235\n",
      "  0.58299595 0.19635628 0.27125506 0.24089069 0.24898785 0.23076923\n",
      "  0.21659919 0.17004049 0.12550607 0.09716599]\n",
      " [0.13562753 0.14777328 0.10728745 0.08502024 0.17004049 0.24696356\n",
      "  0.19635628 0.56072874 0.20242915 0.14777328 0.13967611 0.08502024\n",
      "  0.12753036 0.09311741 0.13562753 0.13360324]\n",
      " [0.10728745 0.09919028 0.07489879 0.05263158 0.13967611 0.37651822\n",
      "  0.27125506 0.20242915 0.54251012 0.27530364 0.32186235 0.19433198\n",
      "  0.15587045 0.13765182 0.1659919  0.14777328]\n",
      " [0.05060729 0.05668016 0.05668016 0.03846154 0.07692308 0.27125506\n",
      "  0.24089069 0.14777328 0.27530364 0.40890688 0.26720648 0.1417004\n",
      "  0.10323887 0.05465587 0.10121457 0.10323887]\n",
      " [0.07489879 0.07287449 0.06680162 0.04251012 0.10728745 0.38663968\n",
      "  0.24898785 0.13967611 0.32186235 0.26720648 0.5        0.19230769\n",
      "  0.15182186 0.0951417  0.13765182 0.13765182]\n",
      " [0.08502024 0.12550607 0.04251012 0.0242915  0.07894737 0.19433198\n",
      "  0.23076923 0.08502024 0.19433198 0.1417004  0.19230769 0.5\n",
      "  0.16194332 0.15991903 0.15789474 0.13967611]\n",
      " [0.13360324 0.15384615 0.09311741 0.04453441 0.17206478 0.17004049\n",
      "  0.21659919 0.12753036 0.15587045 0.10323887 0.15182186 0.16194332\n",
      "  0.5951417  0.38259109 0.29959514 0.24493927]\n",
      " [0.08502024 0.11538462 0.0465587  0.         0.12348178 0.1417004\n",
      "  0.17004049 0.09311741 0.13765182 0.05465587 0.0951417  0.15991903\n",
      "  0.38259109 0.71659919 0.34615385 0.22267206]\n",
      " [0.20850202 0.25506073 0.22064777 0.18623482 0.22064777 0.1437247\n",
      "  0.12550607 0.13562753 0.1659919  0.10121457 0.13765182 0.15789474\n",
      "  0.29959514 0.34615385 0.68016194 0.4757085 ]\n",
      " [0.24898785 0.33198381 0.29757085 0.28340081 0.2388664  0.12753036\n",
      "  0.09716599 0.13360324 0.14777328 0.10323887 0.13765182 0.13967611\n",
      "  0.24493927 0.22267206 0.4757085  0.68825911]]\n"
     ]
    }
   ],
   "source": [
    "print(S)"
   ]
  },
  {
   "cell_type": "code",
   "execution_count": 11,
   "metadata": {},
   "outputs": [
    {
     "data": {
      "image/png": "[encoded data removed]",
      "text/plain": [
       "<Figure size 500x500 with 1 Axes>"
      ]
     },
     "metadata": {},
     "output_type": "display_data"
    },
    {
     "name": "stdout",
     "output_type": "stream",
     "text": [
      "                    Method      ARI       NMI\n",
      "0      Spectral Clustering  1.00000  1.000000\n",
      "1  Hierarchical Clustering  0.54023  0.707797\n"
     ]
    }
   ],
   "source": [
    "from sklearn.cluster import SpectralClustering\n",
    "from sklearn.metrics import adjusted_rand_score, normalized_mutual_info_score\n",
    "from scipy.cluster.hierarchy import linkage, fcluster, dendrogram\n",
    "from scipy.spatial.distance import squareform\n",
    "import pandas as pd\n",
    "\n",
    "ts_names = gt\n",
    "\n",
    "Cs = []\n",
    "Zs = []\n",
    "# single = 4\n",
    "# n_clust = 4\n",
    "# double = 3\n",
    "n_clust = 3\n",
    "\n",
    "for k in [n_clust]:\n",
    "    spectral = SpectralClustering(n_clusters=k, affinity='precomputed')\n",
    "    clusters = spectral.fit_predict(S)\n",
    "    Cs.append(clusters)\n",
    "    Z = linkage(squareform(D), method='single')\n",
    "    h = fcluster(Z, k, criterion='maxclust')\n",
    "    Zs.append(h)\n",
    "    fig, ax = plt.subplots(figsize=(5, 5))\n",
    "    dendrogram(Z, labels=ts_names, ax=ax, leaf_rotation=90)\n",
    "    plt.show()\n",
    "\n",
    "df = pd.DataFrame({'Label': ts_names})\n",
    "for i, k in enumerate([n_clust]):\n",
    "    df[f'Spectral {k}'] = Cs[i]\n",
    "    df[f'Hierarchical {k}'] = Zs[i]\n",
    "\n",
    "df.set_index('Label', inplace=True)\n",
    "#print(df)\n",
    "\n",
    "ari2 = adjusted_rand_score(gt, Cs[0])\n",
    "ari3 = adjusted_rand_score(gt, Zs[0])\n",
    "nmi2 = normalized_mutual_info_score(gt, Cs[0])\n",
    "nmi3 = normalized_mutual_info_score(gt, Zs[0])\n",
    "df_metrics = pd.DataFrame({\n",
    "    'Method': ['Spectral Clustering', 'Hierarchical Clustering'],\n",
    "    'ARI': [ari2, ari3],\n",
    "    'NMI': [nmi2, nmi3]\n",
    "})\n",
    "print(df_metrics)"
   ]
  },
  {
   "cell_type": "code",
   "execution_count": 12,
   "metadata": {},
   "outputs": [
    {
     "data": {
      "image/png": "[encoded data removed]",
      "text/plain": [
       "<Figure size 400x400 with 1 Axes>"
      ]
     },
     "metadata": {},
     "output_type": "display_data"
    }
   ],
   "source": [
    "from scipy.linalg import eigh\n",
    "from scipy.sparse.csgraph import laplacian\n",
    "L = laplacian(S, normed=True)\n",
    "\n",
    "eigenvalues, eigenvectors = eigh(L)\n",
    "#embedding = eigenvectors[:, 1:3]\n",
    "embedding = eigenvectors[:, 1:3]\n",
    "\n",
    "plt.figure(figsize=(4, 4))\n",
    "for i in range(n_clust):\n",
    "    plt.scatter(embedding[clusters == i, 0], embedding[clusters == i, 1], label=f'Cluster {i+1}')\n",
    "plt.title('Spectral Embedding')\n",
    "plt.xlabel('Eigenvector 1')\n",
    "plt.ylabel('Eigenvector 2')\n",
    "plt.legend()\n",
    "plt.show()"
   ]
  },
  {
   "cell_type": "code",
   "execution_count": 13,
   "metadata": {},
   "outputs": [
    {
     "data": {
      "image/png": "[encoded data removed]",
      "text/plain": [
       "<Figure size 500x500 with 1 Axes>"
      ]
     },
     "metadata": {},
     "output_type": "display_data"
    },
    {
     "name": "stdout",
     "output_type": "stream",
     "text": [
      "ari: 0.054022722003246 // nmi: 0.2168579012099405\n"
     ]
    }
   ],
   "source": [
    "Z1 = linkage(squareform(ds), method='single')\n",
    "h1 = fcluster(Z1, k, criterion='maxclust')\n",
    "fig, ax = plt.subplots(figsize=(5, 5))\n",
    "dendrogram(Z1, labels=ts_names, ax=ax, leaf_rotation=90)\n",
    "plt.show()\n",
    "ari4 = adjusted_rand_score(gt, h1)\n",
    "nmi4 = normalized_mutual_info_score(gt, h1)\n",
    "print(f'ari: {ari4} // nmi: {nmi4}')"
   ]
  },
  {
   "cell_type": "code",
   "execution_count": 19,
   "metadata": {},
   "outputs": [
    {
     "data": {
      "image/png": "[encoded data removed]",
      "text/plain": [
       "<Figure size 400x400 with 1 Axes>"
      ]
     },
     "metadata": {},
     "output_type": "display_data"
    }
   ],
   "source": [
    "from sklearn.manifold import MDS\n",
    "\n",
    "mds2 = MDS(n_components=2, dissimilarity='precomputed')\n",
    "points2 = mds2.fit_transform(ds)\n",
    "\n",
    "plt.figure(figsize=(4, 4))\n",
    "scatter = plt.scatter(points2[:, 0], points2[:, 1], c=gt)\n",
    "for i, label in enumerate(ts_names):\n",
    "    #plt.annotate(label[1], (points2[i, 0], points2[i, 1]))\n",
    "    plt.annotate(label, (points2[i, 0], points2[i, 1]))"
   ]
  }
 ],
 "metadata": {
  "kernelspec": {
   "display_name": ".venv",
   "language": "python",
   "name": "python3"
  },
  "language_info": {
   "codemirror_mode": {
    "name": "ipython",
    "version": 3
   },
   "file_extension": ".py",
   "mimetype": "text/x-python",
   "name": "python",
   "nbconvert_exporter": "python",
   "pygments_lexer": "ipython3",
   "version": "3.12.7"
  }
 },
 "nbformat": 4,
 "nbformat_minor": 2
}
