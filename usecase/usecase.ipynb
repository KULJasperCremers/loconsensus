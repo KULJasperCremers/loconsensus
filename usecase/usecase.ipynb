{
 "cells": [
  {
   "cell_type": "code",
   "execution_count": 1,
   "metadata": {},
   "outputs": [],
   "source": [
    "import loconsensus.loconsensus as loconsensus\n",
    "import pickle\n",
    "import os\n",
    "import numpy as np\n",
    "from pathlib import Path\n",
    "\n",
    "s_dir = Path('../pickles/subjects.pkl')\n",
    "with open(s_dir, 'rb') as f:\n",
    "    subjects = pickle.load(f)"
   ]
  },
  {
   "cell_type": "code",
   "execution_count": 6,
   "metadata": {},
   "outputs": [
    {
     "name": "stdout",
     "output_type": "stream",
     "text": [
      "dict_keys(['walking', 'cycling', 'running', 'nordic_walking', 'asc_stairs', 'desc_stairs', 'vacuum_cleaning', 'ironing', 'rope_jumping'])\n",
      "dict_keys(['walking', 'cycling', 'running', 'nordic_walking', 'asc_stairs', 'desc_stairs', 'vacuum_cleaning', 'ironing', 'rope_jumping'])\n",
      "dict_keys(['walking', 'cycling', 'running', 'nordic_walking', 'asc_stairs', 'desc_stairs', 'vacuum_cleaning', 'ironing', 'rope_jumping'])\n",
      "dict_keys(['walking', 'cycling', 'running', 'nordic_walking', 'asc_stairs', 'desc_stairs', 'vacuum_cleaning', 'ironing', 'rope_jumping'])\n",
      "dict_keys(['walking', 'cycling', 'running', 'nordic_walking', 'asc_stairs', 'desc_stairs', 'vacuum_cleaning', 'ironing', 'rope_jumping'])\n",
      "dict_keys(['walking', 'cycling', 'running', 'nordic_walking', 'asc_stairs', 'desc_stairs', 'vacuum_cleaning', 'ironing', 'rope_jumping'])\n",
      "dict_keys(['walking', 'cycling', 'running', 'nordic_walking', 'asc_stairs', 'desc_stairs', 'vacuum_cleaning', 'ironing', 'rope_jumping'])\n",
      "dict_keys(['walking', 'cycling', 'running', 'nordic_walking', 'asc_stairs', 'desc_stairs', 'vacuum_cleaning', 'ironing', 'rope_jumping'])\n",
      "dict_keys(['walking', 'cycling', 'running', 'nordic_walking', 'asc_stairs', 'desc_stairs', 'vacuum_cleaning', 'ironing', 'rope_jumping'])\n"
     ]
    }
   ],
   "source": [
    "for s in subjects:\n",
    "    for k in subjects[s].keys():\n",
    "        print(len(subjects[s].get(\"key\")))"
   ]
  },
  {
   "cell_type": "code",
   "execution_count": null,
   "metadata": {},
   "outputs": [],
   "source": [
    "l_min = 15\n",
    "l_max = 30\n",
    "rho = 0.8"
   ]
  }
 ],
 "metadata": {
  "kernelspec": {
   "display_name": ".venv",
   "language": "python",
   "name": "python3"
  },
  "language_info": {
   "codemirror_mode": {
    "name": "ipython",
    "version": 3
   },
   "file_extension": ".py",
   "mimetype": "text/x-python",
   "name": "python",
   "nbconvert_exporter": "python",
   "pygments_lexer": "ipython3",
   "version": "3.12.7"
  }
 },
 "nbformat": 4,
 "nbformat_minor": 2
}
